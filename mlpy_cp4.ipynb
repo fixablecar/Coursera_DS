{
 "cells": [
  {
   "cell_type": "markdown",
   "id": "accessory-classification",
   "metadata": {},
   "source": [
    "## Data Science Capstone Week 4"
   ]
  },
  {
   "cell_type": "markdown",
   "id": "saved-minnesota",
   "metadata": {},
   "source": [
    "To find the suitable place to live in New York / Toronto based on the neighbourhood characteristics."
   ]
  },
  {
   "cell_type": "markdown",
   "id": "global-eight",
   "metadata": {},
   "source": [
    "### Import packages"
   ]
  },
  {
   "cell_type": "code",
   "execution_count": 78,
   "id": "together-shade",
   "metadata": {},
   "outputs": [],
   "source": [
    "import numpy as np # library to handle data in a vectorized manner\n",
    "import pandas as pd # library for data analsysis\n",
    "import json # library to handle JSON files\n",
    "import requests # library to handle requests\n",
    "from geopy.geocoders import Nominatim\n",
    "from pandas.io.json import json_normalize # tranform JSON file into a pandas dataframe\n",
    "import matplotlib.cm as cm\n",
    "import matplotlib.colors as colors\n",
    "from sklearn.cluster import KMeans\n",
    "import folium # map rendering library\n",
    "from bs4 import BeautifulSoup\n",
    "from urllib.request import urlopen"
   ]
  },
  {
   "cell_type": "markdown",
   "id": "antique-conservation",
   "metadata": {},
   "source": [
    "### Data Preparation - New York"
   ]
  },
  {
   "cell_type": "code",
   "execution_count": 79,
   "id": "recorded-modem",
   "metadata": {},
   "outputs": [
    {
     "name": "stdout",
     "output_type": "stream",
     "text": [
      "  % Total    % Received % Xferd  Average Speed   Time    Time     Time  Current\n",
      "                                 Dload  Upload   Total   Spent    Left  Speed\n",
      "100  113k  100  113k    0     0  43361      0  0:00:02  0:00:02 --:--:-- 43361\n"
     ]
    }
   ],
   "source": [
    "!curl https://cf-courses-data.s3.us.cloud-object-storage.appdomain.cloud/IBMDeveloperSkillsNetwork-DS0701EN-SkillsNetwork/labs/newyork_data.json --output 'newyork_data.json'\n",
    "\n",
    "with open('newyork_data.json', 'r') as json_data:\n",
    "    newyork_data = json.load(json_data)\n",
    "    \n",
    "neighborhoods_data = newyork_data['features']\n",
    "neighborhoods = pd.DataFrame(columns=['Borough', 'Neighbourhood', 'Latitude', 'Longitude'] )\n",
    "\n",
    "for data in neighborhoods_data:\n",
    "    borough = neighborhood_name = data['properties']['borough'] \n",
    "    neighborhood_name = data['properties']['name']\n",
    "        \n",
    "    neighborhood_latlon = data['geometry']['coordinates']\n",
    "    neighborhood_lat = neighborhood_latlon[1]\n",
    "    neighborhood_lon = neighborhood_latlon[0]\n",
    "    \n",
    "    neighborhoods = neighborhoods.append({'Borough': borough,\n",
    "                                          'Neighbourhood': neighborhood_name,\n",
    "                                          'Latitude': neighborhood_lat,\n",
    "                                          'Longitude': neighborhood_lon}, ignore_index=True)\n",
    "\n"
   ]
  },
  {
   "cell_type": "code",
   "execution_count": 80,
   "id": "moved-disability",
   "metadata": {},
   "outputs": [
    {
     "data": {
      "text/html": [
       "<div>\n",
       "<style scoped>\n",
       "    .dataframe tbody tr th:only-of-type {\n",
       "        vertical-align: middle;\n",
       "    }\n",
       "\n",
       "    .dataframe tbody tr th {\n",
       "        vertical-align: top;\n",
       "    }\n",
       "\n",
       "    .dataframe thead th {\n",
       "        text-align: right;\n",
       "    }\n",
       "</style>\n",
       "<table border=\"1\" class=\"dataframe\">\n",
       "  <thead>\n",
       "    <tr style=\"text-align: right;\">\n",
       "      <th></th>\n",
       "      <th>Borough</th>\n",
       "      <th>Neighbourhood</th>\n",
       "      <th>Latitude</th>\n",
       "      <th>Longitude</th>\n",
       "    </tr>\n",
       "  </thead>\n",
       "  <tbody>\n",
       "    <tr>\n",
       "      <th>0</th>\n",
       "      <td>Bronx</td>\n",
       "      <td>Wakefield</td>\n",
       "      <td>40.894705</td>\n",
       "      <td>-73.847201</td>\n",
       "    </tr>\n",
       "    <tr>\n",
       "      <th>1</th>\n",
       "      <td>Bronx</td>\n",
       "      <td>Co-op City</td>\n",
       "      <td>40.874294</td>\n",
       "      <td>-73.829939</td>\n",
       "    </tr>\n",
       "    <tr>\n",
       "      <th>2</th>\n",
       "      <td>Bronx</td>\n",
       "      <td>Eastchester</td>\n",
       "      <td>40.887556</td>\n",
       "      <td>-73.827806</td>\n",
       "    </tr>\n",
       "    <tr>\n",
       "      <th>3</th>\n",
       "      <td>Bronx</td>\n",
       "      <td>Fieldston</td>\n",
       "      <td>40.895437</td>\n",
       "      <td>-73.905643</td>\n",
       "    </tr>\n",
       "    <tr>\n",
       "      <th>4</th>\n",
       "      <td>Bronx</td>\n",
       "      <td>Riverdale</td>\n",
       "      <td>40.890834</td>\n",
       "      <td>-73.912585</td>\n",
       "    </tr>\n",
       "  </tbody>\n",
       "</table>\n",
       "</div>"
      ],
      "text/plain": [
       "  Borough Neighbourhood   Latitude  Longitude\n",
       "0   Bronx     Wakefield  40.894705 -73.847201\n",
       "1   Bronx    Co-op City  40.874294 -73.829939\n",
       "2   Bronx   Eastchester  40.887556 -73.827806\n",
       "3   Bronx     Fieldston  40.895437 -73.905643\n",
       "4   Bronx     Riverdale  40.890834 -73.912585"
      ]
     },
     "execution_count": 80,
     "metadata": {},
     "output_type": "execute_result"
    }
   ],
   "source": [
    "neighborhoods.head()"
   ]
  },
  {
   "cell_type": "markdown",
   "id": "blocked-fiction",
   "metadata": {},
   "source": [
    "### Data Preparation - Toronto"
   ]
  },
  {
   "cell_type": "code",
   "execution_count": 81,
   "id": "baking-testimony",
   "metadata": {},
   "outputs": [
    {
     "name": "stdout",
     "output_type": "stream",
     "text": [
      "Parkwoods\n",
      "Victoria Village\n",
      "Regent Park\n",
      "Harbourfront\n",
      "Lawrence Manor\n",
      "Lawrence Heights\n",
      "Queen's Park\n",
      "Ontario Provincial Government\n",
      "Islington Avenue\n",
      "Humber Valley Village\n",
      "Malvern\n",
      "Rouge\n",
      "Don Mills\n",
      "Parkview Hill\n",
      "Woodbine Gardens\n",
      "Garden District\n",
      "Ryerson\n",
      "Glencairn\n",
      "West Deane Park\n",
      "Princess Gardens\n",
      "Martin Grove\n",
      "Islington\n",
      "Cloverdale\n",
      "Rouge Hill\n",
      "Port Union\n",
      "Highland Creek\n",
      "Don Mills\n",
      "Woodbine Heights\n",
      "St. James Town\n",
      "Humewood-Cedarvale\n",
      "Eringate\n",
      "Bloordale Gardens\n",
      "Old Burnhamthorpe\n",
      "Markland Wood\n",
      "Guildwood\n",
      "Morningside\n",
      "West Hill\n",
      "The Beaches\n",
      "Berczy Park\n",
      "Caledonia-Fairbanks\n",
      "Woburn\n",
      "Leaside\n",
      "Central Bay Street\n",
      "Christie\n",
      "Cedarbrae\n",
      "Hillcrest Village\n",
      "Bathurst Manor\n",
      "Wilson Heights\n",
      "Downsview North\n",
      "Thorncliffe Park\n",
      "Richmond\n",
      "Adelaide\n",
      "King\n",
      "Dufferin\n",
      "Dovercourt Village\n",
      "Scarborough Village\n",
      "Fairview\n",
      "Henry Farm\n",
      "Oriole\n",
      "Northwood Park\n",
      "York University\n",
      "East Toronto\n",
      "Broadview North (Old East York)\n",
      "Harbourfront East\n",
      "Union Station\n",
      "Toronto Islands\n",
      "Little Portugal\n",
      "Trinity\n",
      "Kennedy Park\n",
      "Ionview\n",
      "East Birchmount Park\n",
      "Bayview Village\n",
      "Downsview\n",
      "The Danforth West\n",
      "Riverdale\n",
      "Toronto Dominion Centre\n",
      "Design Exchange\n",
      "Brockton\n",
      "Parkdale Village\n",
      "Exhibition Place\n",
      "Golden Mile\n",
      "Clairlea\n",
      "Oakridge\n",
      "York Mills\n",
      "Silver Hills\n",
      "Downsview\n",
      "India Bazaar\n",
      "The Beaches West\n",
      "Commerce Court\n",
      "Victoria Hotel\n",
      "North Park\n",
      "Maple Leaf Park\n",
      "Upwood Park\n",
      "Humber Summit\n",
      "Cliffside\n",
      "Cliffcrest\n",
      "Scarborough Village West\n",
      "Willowdale\n",
      "Newtonbrook\n",
      "Downsview\n",
      "Studio District\n",
      "Bedford Park\n",
      "Lawrence Manor East\n",
      "Del Ray\n",
      "Mount Dennis\n",
      "Keelsdale and Silverthorn\n",
      "Humberlea\n",
      "Emery\n",
      "Birch Cliff\n",
      "Cliffside West\n",
      "Willowdale\n",
      "Willowdale East\n",
      "Downsview\n",
      "Lawrence Park\n",
      "Roselawn\n",
      "Runnymede\n",
      "The Junction North\n",
      "Weston\n",
      "Dorset Park\n",
      "Wexford Heights\n",
      "Scarborough Town Centre\n",
      "York Mills West\n",
      "Davisville North\n",
      "Forest Hill North & West\n",
      "Forest Hill Road Park\n",
      "High Park\n",
      "The Junction South\n",
      "Westmount\n",
      "Wexford\n",
      "Maryvale\n",
      "Willowdale\n",
      "Willowdale West\n",
      "North Toronto West\n",
      "Lawrence Park\n",
      "The Annex\n",
      "North Midtown\n",
      "Yorkville\n",
      "Parkdale\n",
      "Roncesvalles\n",
      "Canada Post Gateway Processing Centre\n",
      "Kingsview Village\n",
      "St. Phillips\n",
      "Martin Grove Gardens\n",
      "Richview Gardens\n",
      "Agincourt\n",
      "Davisville\n",
      "University of Toronto\n",
      "Harbord\n",
      "Runnymede\n",
      "Swansea\n",
      "Clarks Corners\n",
      "Tam O'Shanter\n",
      "Sullivan\n",
      "Moore Park\n",
      "Summerhill East\n",
      "Kensington Market\n",
      "Chinatown\n",
      "Grange Park\n",
      "Milliken\n",
      "Agincourt North\n",
      "Steeles East\n",
      "L'Amoreaux East\n",
      "Summerhill West\n",
      "Rathnelly\n",
      "South Hill\n",
      "Forest Hill SE\n",
      "Deer Park\n",
      "CN Tower\n",
      "King and Spadina\n",
      "Railway Lands\n",
      "Harbourfront West\n",
      "Bathurst Quay\n",
      "South Niagara\n",
      "Island airport\n",
      "New Toronto\n",
      "Mimico South\n",
      "Humber Bay Shores\n",
      "South Steeles\n",
      "Silverstone\n",
      "Humbergate\n",
      "Jamestown\n",
      "Mount Olive\n",
      "Beaumond Heights\n",
      "Thistletown\n",
      "Albion Gardens\n",
      "Steeles West\n",
      "L'Amoreaux West\n",
      "Rosedale\n",
      "Stn A PO Boxes\n",
      "Alderwood\n",
      "Long Branch\n",
      "Northwest\n",
      "West Humber - Clairville\n",
      "Upper Rouge\n",
      "St. James Town\n",
      "Cabbagetown\n",
      "First Canadian Place\n",
      "Underground city\n",
      "The Kingsway\n",
      "Montgomery Road\n",
      "Old Mill North\n",
      "Church and Wellesley\n",
      "Business reply mail Processing Centre\n",
      "South Central Letter Processing Plant Toronto\n",
      "Old Mill South\n",
      "King's Mill Park\n",
      "Sunnylea\n",
      "Humber Bay\n",
      "Mimico NE\n",
      "The Queensway East\n",
      "Royal York South East\n",
      "Kingsway Park South East\n",
      "Mimico NW\n",
      "The Queensway West\n",
      "South of Bloor\n",
      "Kingsway Park South West\n",
      "Royal York South West\n"
     ]
    }
   ],
   "source": [
    "pc_url = \"https://en.wikipedia.org/wiki/List_of_postal_codes_of_Canada:_M\"\n",
    "pc_html = urlopen(pc_url)\n",
    "pc_bs = BeautifulSoup(pc_html, 'html.parser')\n",
    "pc_tbl = pc_bs.find_all('table')\n",
    "pc_tbl2 = pc_tbl[0]\n",
    "\n",
    "header = [i.text.strip() for i in pc_tbl2.find_all('th')]\n",
    "cell = pc_tbl2.find_all('td')\n",
    "\n",
    "pc_df = pd.DataFrame(columns=header)\n",
    "\n",
    "for i in range(0, int(len(cell)/3)):\n",
    "    row = [j.text.strip() for j in cell[3*i:3*i+3]]\n",
    "    if row[1] != \"Not assigned\":\n",
    "        if ',' in row[2]:\n",
    "            for nei in row[2].split(','):\n",
    "                pc_df = pc_df.append({header[0]:row[0],header[1]:row[1],header[2]:nei.strip()},\n",
    "                                 ignore_index=True)\n",
    "        else:\n",
    "            pc_df = pc_df.append({header[0]:row[0],header[1]:row[1],header[2]:row[2]},\n",
    "                                 ignore_index=True)\n",
    "\n",
    "def toronto_geocoder(row):\n",
    "    geolocator = Nominatim(user_agent=\"ny_explorer\")\n",
    "    print(row[\"Neighbourhood\"])\n",
    "    try:\n",
    "        location = geolocator.geocode(row[\"Neighbourhood\"] + \", Toronto, Canada\")\n",
    "        row[\"Latitude\"] = location.latitude\n",
    "        row[\"Longitude\"] = location.longitude\n",
    "    finally:\n",
    "        return row\n",
    "\n",
    "geo_df = pd.read_csv(\"https://cocl.us/Geospatial_data\")\n",
    "pc_df2 = pc_df.merge(geo_df, on=\"Postal Code\")\n",
    "pc_df2 = pc_df2.apply(toronto_geocoder, axis=1)"
   ]
  },
  {
   "cell_type": "code",
   "execution_count": 82,
   "id": "increasing-english",
   "metadata": {},
   "outputs": [
    {
     "data": {
      "text/html": [
       "<div>\n",
       "<style scoped>\n",
       "    .dataframe tbody tr th:only-of-type {\n",
       "        vertical-align: middle;\n",
       "    }\n",
       "\n",
       "    .dataframe tbody tr th {\n",
       "        vertical-align: top;\n",
       "    }\n",
       "\n",
       "    .dataframe thead th {\n",
       "        text-align: right;\n",
       "    }\n",
       "</style>\n",
       "<table border=\"1\" class=\"dataframe\">\n",
       "  <thead>\n",
       "    <tr style=\"text-align: right;\">\n",
       "      <th></th>\n",
       "      <th>Postal Code</th>\n",
       "      <th>Borough</th>\n",
       "      <th>Neighbourhood</th>\n",
       "      <th>Latitude</th>\n",
       "      <th>Longitude</th>\n",
       "    </tr>\n",
       "  </thead>\n",
       "  <tbody>\n",
       "    <tr>\n",
       "      <th>0</th>\n",
       "      <td>M3A</td>\n",
       "      <td>North York</td>\n",
       "      <td>Parkwoods</td>\n",
       "      <td>43.758800</td>\n",
       "      <td>-79.320197</td>\n",
       "    </tr>\n",
       "    <tr>\n",
       "      <th>1</th>\n",
       "      <td>M4A</td>\n",
       "      <td>North York</td>\n",
       "      <td>Victoria Village</td>\n",
       "      <td>43.732658</td>\n",
       "      <td>-79.311189</td>\n",
       "    </tr>\n",
       "    <tr>\n",
       "      <th>2</th>\n",
       "      <td>M5A</td>\n",
       "      <td>Downtown Toronto</td>\n",
       "      <td>Regent Park</td>\n",
       "      <td>43.660706</td>\n",
       "      <td>-79.360457</td>\n",
       "    </tr>\n",
       "    <tr>\n",
       "      <th>3</th>\n",
       "      <td>M5A</td>\n",
       "      <td>Downtown Toronto</td>\n",
       "      <td>Harbourfront</td>\n",
       "      <td>43.640080</td>\n",
       "      <td>-79.380150</td>\n",
       "    </tr>\n",
       "    <tr>\n",
       "      <th>4</th>\n",
       "      <td>M6A</td>\n",
       "      <td>North York</td>\n",
       "      <td>Lawrence Manor</td>\n",
       "      <td>43.722079</td>\n",
       "      <td>-79.437507</td>\n",
       "    </tr>\n",
       "  </tbody>\n",
       "</table>\n",
       "</div>"
      ],
      "text/plain": [
       "  Postal Code           Borough     Neighbourhood   Latitude  Longitude\n",
       "0         M3A        North York         Parkwoods  43.758800 -79.320197\n",
       "1         M4A        North York  Victoria Village  43.732658 -79.311189\n",
       "2         M5A  Downtown Toronto       Regent Park  43.660706 -79.360457\n",
       "3         M5A  Downtown Toronto      Harbourfront  43.640080 -79.380150\n",
       "4         M6A        North York    Lawrence Manor  43.722079 -79.437507"
      ]
     },
     "execution_count": 82,
     "metadata": {},
     "output_type": "execute_result"
    }
   ],
   "source": [
    "pc_df2.head()"
   ]
  },
  {
   "cell_type": "code",
   "execution_count": 95,
   "id": "novel-cross",
   "metadata": {},
   "outputs": [
    {
     "name": "stdout",
     "output_type": "stream",
     "text": [
      "(217, 5)\n",
      "(306, 4)\n"
     ]
    }
   ],
   "source": [
    "print(pc_df2.shape)\n",
    "print(neighborhoods.shape)"
   ]
  },
  {
   "cell_type": "code",
   "execution_count": 355,
   "id": "swedish-description",
   "metadata": {},
   "outputs": [],
   "source": [
    "CLIENT_ID = '-' # your Foursquare ID\n",
    "CLIENT_SECRET = '-' # your Foursquare Secret\n",
    "VERSION = '20210201' # Foursquare API version\n",
    "LIMIT = 200 # A default Foursquare API limit value"
   ]
  },
  {
   "cell_type": "markdown",
   "id": "extraordinary-county",
   "metadata": {},
   "source": [
    "### Function for Foursquare API"
   ]
  },
  {
   "cell_type": "code",
   "execution_count": 97,
   "id": "identified-tonight",
   "metadata": {},
   "outputs": [],
   "source": [
    "# function that extracts the category of the venue\n",
    "def get_category_type(row):\n",
    "    try:\n",
    "        categories_list = row['categories']\n",
    "    except:\n",
    "        categories_list = row['venue.categories']\n",
    "        \n",
    "    if len(categories_list) == 0:\n",
    "        return None\n",
    "    else:\n",
    "        return categories_list[0]['name']\n",
    "\n",
    "def getNearbyVenues(names, latitudes, longitudes, radius=1000):\n",
    "    \n",
    "    venues_list=[]\n",
    "    for name, lat, lng in zip(names, latitudes, longitudes):         \n",
    "        # create the API request URL\n",
    "        url = 'https://api.foursquare.com/v2/venues/explore?&client_id={}&client_secret={}&v={}&ll={},{}&radius={}&limit={}'.format(\n",
    "            CLIENT_ID, \n",
    "            CLIENT_SECRET, \n",
    "            VERSION, \n",
    "            lat, \n",
    "            lng, \n",
    "            radius, \n",
    "            LIMIT)\n",
    "            \n",
    "        # make the GET request\n",
    "        results = requests.get(url).json()[\"response\"]['groups'][0]['items']\n",
    "        \n",
    "        # return only relevant information for each nearby venue\n",
    "        venues_list.append([(\n",
    "            name, \n",
    "            lat, \n",
    "            lng, \n",
    "            v['venue']['name'], \n",
    "            v['venue']['location']['lat'], \n",
    "            v['venue']['location']['lng'],  \n",
    "            v['venue']['categories'][0]['name']) for v in results])\n",
    "\n",
    "    nearby_venues = pd.DataFrame([item for venue_list in venues_list for item in venue_list])\n",
    "    nearby_venues.columns = ['Neighbourhood', \n",
    "                  'Neighborhood Latitude', \n",
    "                  'Neighborhood Longitude', \n",
    "                  'Venue', \n",
    "                  'Venue Latitude', \n",
    "                  'Venue Longitude', \n",
    "                  'Venue Category']\n",
    "    \n",
    "    return(nearby_venues)"
   ]
  },
  {
   "cell_type": "markdown",
   "id": "remarkable-house",
   "metadata": {},
   "source": [
    "### Explore neighbourhood using Foursquare API"
   ]
  },
  {
   "cell_type": "code",
   "execution_count": 99,
   "id": "contrary-cooperation",
   "metadata": {},
   "outputs": [],
   "source": [
    "ny_nearby = getNearbyVenues(neighborhoods[\"Neighbourhood\"], neighborhoods[\"Latitude\"], neighborhoods[\"Longitude\"], radius=1000)"
   ]
  },
  {
   "cell_type": "code",
   "execution_count": 100,
   "id": "earned-avatar",
   "metadata": {},
   "outputs": [],
   "source": [
    "tr_nearby = getNearbyVenues(pc_df2[\"Neighbourhood\"], pc_df2[\"Latitude\"], pc_df2[\"Longitude\"], radius=1000)"
   ]
  },
  {
   "cell_type": "code",
   "execution_count": 101,
   "id": "graduate-marble",
   "metadata": {},
   "outputs": [
    {
     "data": {
      "text/plain": [
       "(20577, 7)"
      ]
     },
     "execution_count": 101,
     "metadata": {},
     "output_type": "execute_result"
    }
   ],
   "source": [
    "ny_nearby.shape"
   ]
  },
  {
   "cell_type": "code",
   "execution_count": 102,
   "id": "grave-reflection",
   "metadata": {},
   "outputs": [
    {
     "data": {
      "text/plain": [
       "(11622, 7)"
      ]
     },
     "execution_count": 102,
     "metadata": {},
     "output_type": "execute_result"
    }
   ],
   "source": [
    "tr_nearby.shape"
   ]
  },
  {
   "cell_type": "code",
   "execution_count": 103,
   "id": "joined-chrome",
   "metadata": {},
   "outputs": [
    {
     "data": {
      "text/plain": [
       "Neighbourhood\n",
       "Allerton          68\n",
       "Annadale          17\n",
       "Arden Heights     24\n",
       "Arlington         23\n",
       "Arrochar          23\n",
       "                ... \n",
       "Woodhaven         64\n",
       "Woodlawn          50\n",
       "Woodrow           17\n",
       "Woodside         100\n",
       "Yorkville        100\n",
       "Name: Venue, Length: 302, dtype: int64"
      ]
     },
     "execution_count": 103,
     "metadata": {},
     "output_type": "execute_result"
    }
   ],
   "source": [
    "ny_nearby.groupby('Neighbourhood').count()[\"Venue\"]"
   ]
  },
  {
   "cell_type": "code",
   "execution_count": 104,
   "id": "closed-proceeding",
   "metadata": {},
   "outputs": [
    {
     "data": {
      "text/plain": [
       "Neighbourhood\n",
       "Humber Bay           4\n",
       "Humber Summit        4\n",
       "Maple Leaf Park      4\n",
       "Highland Creek       5\n",
       "Oakridge             8\n",
       "                  ... \n",
       "Lawrence Park      104\n",
       "Don Mills          146\n",
       "Runnymede          160\n",
       "St. James Town     200\n",
       "Willowdale         282\n",
       "Name: Venue, Length: 208, dtype: int64"
      ]
     },
     "execution_count": 104,
     "metadata": {},
     "output_type": "execute_result"
    }
   ],
   "source": [
    "tr_nearby.groupby('Neighbourhood').count()[\"Venue\"].sort_values()"
   ]
  },
  {
   "cell_type": "markdown",
   "id": "collaborative-reality",
   "metadata": {},
   "source": [
    "### Function to calculate the score of neighbourhood based on my own preference \n",
    "#### (+1 score of each category existed in pos_list, -1 score for neg_list)"
   ]
  },
  {
   "cell_type": "code",
   "execution_count": 105,
   "id": "cubic-switzerland",
   "metadata": {},
   "outputs": [],
   "source": [
    "def neibourhood_score(df):\n",
    "    pos_list = [\"Light Rail Station\", \"Metro Station\", \"Tram Station\", \"Train Station\",\n",
    "                \"Bus Stop\", \"Bus Station\", \"Police Station\", \"Fire Station\", \"Hospital\",\n",
    "                \"Medical Center\", \"Pier\", \"Shopping Plaza\", \"Shopping Mall\", \"Supermarket\",\n",
    "               \"Grocery Store\", \"Department Store\", \"Convenience Store\", \"Waterfront\", \"Park\",\n",
    "               \"National Park\",\"Harbor / Marina\", \"Beach\", \"Bay\", \"Art Museum\", \"Museum\"]\n",
    "    neg_list = [\"Prison\", \"Military Base\", \"Power Plant\", \"Waste Facility\", \"Airport\",\n",
    "                \"Gas Station\", \"Funeral Home\", \"Cemetery\"]\n",
    "    onehot = pd.get_dummies(df[['Venue Category']], prefix=\"\", prefix_sep=\"\")\n",
    "    onehot['Neighbourhood'] = df['Neighbourhood']\n",
    "    onehot_grp = onehot.groupby(\"Neighbourhood\").sum()\n",
    "    onehot_col = onehot_grp.columns\n",
    "    score = onehot_grp.get(set(onehot_col).intersection(set(pos_list))).sum(axis=1) - onehot_grp.get(set(onehot_col).intersection(set(neg_list))).sum(axis=1)\n",
    "    return score"
   ]
  },
  {
   "cell_type": "markdown",
   "id": "meaning-robert",
   "metadata": {},
   "source": [
    "### Score for neighbourhood in New York"
   ]
  },
  {
   "cell_type": "code",
   "execution_count": 106,
   "id": "included-cleaning",
   "metadata": {},
   "outputs": [
    {
     "data": {
      "text/plain": [
       "Neighbourhood\n",
       "Chinatown          0\n",
       "Todt Hill          0\n",
       "Butler Manor       0\n",
       "Rossville          1\n",
       "West Brighton      1\n",
       "                  ..\n",
       "Marble Hill       16\n",
       "Rockaway Beach    17\n",
       "Melrose           18\n",
       "Baychester        18\n",
       "Starrett City     19\n",
       "Length: 302, dtype: int64"
      ]
     },
     "execution_count": 106,
     "metadata": {},
     "output_type": "execute_result"
    }
   ],
   "source": [
    "ny_score = neibourhood_score(ny_nearby)\n",
    "ny_score.sort_values()"
   ]
  },
  {
   "cell_type": "markdown",
   "id": "curious-presentation",
   "metadata": {},
   "source": [
    "### Score for neighbourhood in Toronto"
   ]
  },
  {
   "cell_type": "code",
   "execution_count": 107,
   "id": "found-demand",
   "metadata": {},
   "outputs": [
    {
     "data": {
      "text/plain": [
       "Neighbourhood\n",
       "Downsview           -4\n",
       "Downsview North     -1\n",
       "York University     -1\n",
       "Parkwoods            0\n",
       "Albion Gardens       0\n",
       "                    ..\n",
       "Bathurst Quay       12\n",
       "The Beaches         12\n",
       "The Beaches West    12\n",
       "Yorkville           12\n",
       "Willowdale          21\n",
       "Length: 208, dtype: int64"
      ]
     },
     "execution_count": 107,
     "metadata": {},
     "output_type": "execute_result"
    }
   ],
   "source": [
    "tr_score = neibourhood_score(tr_nearby)\n",
    "tr_score.sort_values()"
   ]
  },
  {
   "cell_type": "markdown",
   "id": "shaped-suspension",
   "metadata": {},
   "source": [
    "#### Add the score column to dataframe"
   ]
  },
  {
   "cell_type": "code",
   "execution_count": 342,
   "id": "northern-competition",
   "metadata": {},
   "outputs": [
    {
     "data": {
      "text/html": [
       "<div>\n",
       "<style scoped>\n",
       "    .dataframe tbody tr th:only-of-type {\n",
       "        vertical-align: middle;\n",
       "    }\n",
       "\n",
       "    .dataframe tbody tr th {\n",
       "        vertical-align: top;\n",
       "    }\n",
       "\n",
       "    .dataframe thead th {\n",
       "        text-align: right;\n",
       "    }\n",
       "</style>\n",
       "<table border=\"1\" class=\"dataframe\">\n",
       "  <thead>\n",
       "    <tr style=\"text-align: right;\">\n",
       "      <th></th>\n",
       "      <th>Borough</th>\n",
       "      <th>Neighbourhood</th>\n",
       "      <th>Latitude</th>\n",
       "      <th>Longitude</th>\n",
       "      <th>Score</th>\n",
       "    </tr>\n",
       "  </thead>\n",
       "  <tbody>\n",
       "    <tr>\n",
       "      <th>0</th>\n",
       "      <td>Bronx</td>\n",
       "      <td>Wakefield</td>\n",
       "      <td>40.894705</td>\n",
       "      <td>-73.847201</td>\n",
       "      <td>3</td>\n",
       "    </tr>\n",
       "    <tr>\n",
       "      <th>1</th>\n",
       "      <td>Bronx</td>\n",
       "      <td>Co-op City</td>\n",
       "      <td>40.874294</td>\n",
       "      <td>-73.829939</td>\n",
       "      <td>16</td>\n",
       "    </tr>\n",
       "    <tr>\n",
       "      <th>2</th>\n",
       "      <td>Bronx</td>\n",
       "      <td>Eastchester</td>\n",
       "      <td>40.887556</td>\n",
       "      <td>-73.827806</td>\n",
       "      <td>8</td>\n",
       "    </tr>\n",
       "    <tr>\n",
       "      <th>3</th>\n",
       "      <td>Bronx</td>\n",
       "      <td>Fieldston</td>\n",
       "      <td>40.895437</td>\n",
       "      <td>-73.905643</td>\n",
       "      <td>7</td>\n",
       "    </tr>\n",
       "    <tr>\n",
       "      <th>4</th>\n",
       "      <td>Bronx</td>\n",
       "      <td>Riverdale</td>\n",
       "      <td>40.890834</td>\n",
       "      <td>-73.912585</td>\n",
       "      <td>4</td>\n",
       "    </tr>\n",
       "  </tbody>\n",
       "</table>\n",
       "</div>"
      ],
      "text/plain": [
       "  Borough Neighbourhood   Latitude  Longitude  Score\n",
       "0   Bronx     Wakefield  40.894705 -73.847201      3\n",
       "1   Bronx    Co-op City  40.874294 -73.829939     16\n",
       "2   Bronx   Eastchester  40.887556 -73.827806      8\n",
       "3   Bronx     Fieldston  40.895437 -73.905643      7\n",
       "4   Bronx     Riverdale  40.890834 -73.912585      4"
      ]
     },
     "execution_count": 342,
     "metadata": {},
     "output_type": "execute_result"
    }
   ],
   "source": [
    "temp = pd.DataFrame(ny_score,columns=[\"Score\"])\n",
    "temp.reset_index(level=\"Neighbourhood\",inplace=True)\n",
    "ny_df2 = neighborhoods.merge(temp, on=\"Neighbourhood\").drop_duplicates(\"Neighbourhood\")\n",
    "ny_df2.head()"
   ]
  },
  {
   "cell_type": "code",
   "execution_count": 343,
   "id": "cordless-chicago",
   "metadata": {},
   "outputs": [
    {
     "data": {
      "text/html": [
       "<div>\n",
       "<style scoped>\n",
       "    .dataframe tbody tr th:only-of-type {\n",
       "        vertical-align: middle;\n",
       "    }\n",
       "\n",
       "    .dataframe tbody tr th {\n",
       "        vertical-align: top;\n",
       "    }\n",
       "\n",
       "    .dataframe thead th {\n",
       "        text-align: right;\n",
       "    }\n",
       "</style>\n",
       "<table border=\"1\" class=\"dataframe\">\n",
       "  <thead>\n",
       "    <tr style=\"text-align: right;\">\n",
       "      <th></th>\n",
       "      <th>Postal Code</th>\n",
       "      <th>Borough</th>\n",
       "      <th>Neighbourhood</th>\n",
       "      <th>Latitude</th>\n",
       "      <th>Longitude</th>\n",
       "      <th>Score</th>\n",
       "    </tr>\n",
       "  </thead>\n",
       "  <tbody>\n",
       "    <tr>\n",
       "      <th>0</th>\n",
       "      <td>M3A</td>\n",
       "      <td>North York</td>\n",
       "      <td>Parkwoods</td>\n",
       "      <td>43.758800</td>\n",
       "      <td>-79.320197</td>\n",
       "      <td>0</td>\n",
       "    </tr>\n",
       "    <tr>\n",
       "      <th>1</th>\n",
       "      <td>M4A</td>\n",
       "      <td>North York</td>\n",
       "      <td>Victoria Village</td>\n",
       "      <td>43.732658</td>\n",
       "      <td>-79.311189</td>\n",
       "      <td>2</td>\n",
       "    </tr>\n",
       "    <tr>\n",
       "      <th>2</th>\n",
       "      <td>M5A</td>\n",
       "      <td>Downtown Toronto</td>\n",
       "      <td>Regent Park</td>\n",
       "      <td>43.660706</td>\n",
       "      <td>-79.360457</td>\n",
       "      <td>5</td>\n",
       "    </tr>\n",
       "    <tr>\n",
       "      <th>3</th>\n",
       "      <td>M5A</td>\n",
       "      <td>Downtown Toronto</td>\n",
       "      <td>Harbourfront</td>\n",
       "      <td>43.640080</td>\n",
       "      <td>-79.380150</td>\n",
       "      <td>7</td>\n",
       "    </tr>\n",
       "    <tr>\n",
       "      <th>4</th>\n",
       "      <td>M6A</td>\n",
       "      <td>North York</td>\n",
       "      <td>Lawrence Manor</td>\n",
       "      <td>43.722079</td>\n",
       "      <td>-79.437507</td>\n",
       "      <td>6</td>\n",
       "    </tr>\n",
       "  </tbody>\n",
       "</table>\n",
       "</div>"
      ],
      "text/plain": [
       "  Postal Code           Borough     Neighbourhood   Latitude  Longitude  Score\n",
       "0         M3A        North York         Parkwoods  43.758800 -79.320197      0\n",
       "1         M4A        North York  Victoria Village  43.732658 -79.311189      2\n",
       "2         M5A  Downtown Toronto       Regent Park  43.660706 -79.360457      5\n",
       "3         M5A  Downtown Toronto      Harbourfront  43.640080 -79.380150      7\n",
       "4         M6A        North York    Lawrence Manor  43.722079 -79.437507      6"
      ]
     },
     "execution_count": 343,
     "metadata": {},
     "output_type": "execute_result"
    }
   ],
   "source": [
    "temp = pd.DataFrame(tr_score,columns=[\"Score\"])\n",
    "temp.reset_index(level=\"Neighbourhood\",inplace=True)\n",
    "tr_df2 = pc_df2.merge(temp, on=\"Neighbourhood\").drop_duplicates(\"Neighbourhood\")\n",
    "tr_df2.head()"
   ]
  },
  {
   "cell_type": "markdown",
   "id": "alpha-forge",
   "metadata": {},
   "source": [
    "## Plot result onto map using Folium"
   ]
  },
  {
   "cell_type": "code",
   "execution_count": 344,
   "id": "turkish-sodium",
   "metadata": {},
   "outputs": [],
   "source": [
    "import folium\n",
    "from folium.plugins import HeatMap\n",
    "\n",
    "def heatmap_helper(data, map_obj):\n",
    "    map_obj.add_child(HeatMap(data, radius=13, gradient={0.1:'darkblue', 0.4:'green',\n",
    "                                                         0.6:'yellow', 0.7:'orange',\n",
    "                                                         0.8:'red', 0.9:'darkred', 1.0:'black'}))\n",
    "\n",
    "def circlemarker(row, map_obj):\n",
    "    nei = row[\"Neighbourhood\"].values[0]\n",
    "    folium.vector_layers.CircleMarker(\n",
    "        location=[row[\"Latitude\"], row[\"Longitude\"]],\n",
    "        radius=10, popup=\"#{} - {}\".format(str(row.name + 1), row[\"Neighbourhood\"]),\n",
    "        stroke=False,\n",
    "        fill_color='black',\n",
    "        fill_opacity=0.4).add_to(map_obj)\n",
    "\n",
    "def marker(row, map_obj):\n",
    "    folium.Marker(\n",
    "        location=[row[\"Latitude\"], row[\"Longitude\"]],\n",
    "        popup=\"Top {} - {}\".format(str(row.name + 1), row[\"Neighbourhood\"])).add_to(map_obj)"
   ]
  },
  {
   "cell_type": "markdown",
   "id": "reverse-wichita",
   "metadata": {},
   "source": [
    "### Create Map for New York\n",
    "\n",
    "#### Color of the heatmap: the darker color the higher score"
   ]
  },
  {
   "cell_type": "code",
   "execution_count": 351,
   "id": "behavioral-diesel",
   "metadata": {},
   "outputs": [
    {
     "data": {
      "text/html": [
       "<div>\n",
       "<style scoped>\n",
       "    .dataframe tbody tr th:only-of-type {\n",
       "        vertical-align: middle;\n",
       "    }\n",
       "\n",
       "    .dataframe tbody tr th {\n",
       "        vertical-align: top;\n",
       "    }\n",
       "\n",
       "    .dataframe thead th {\n",
       "        text-align: right;\n",
       "    }\n",
       "</style>\n",
       "<table border=\"1\" class=\"dataframe\">\n",
       "  <thead>\n",
       "    <tr style=\"text-align: right;\">\n",
       "      <th></th>\n",
       "      <th>Borough</th>\n",
       "      <th>Neighbourhood</th>\n",
       "      <th>Latitude</th>\n",
       "      <th>Longitude</th>\n",
       "      <th>Score</th>\n",
       "    </tr>\n",
       "  </thead>\n",
       "  <tbody>\n",
       "    <tr>\n",
       "      <th>0</th>\n",
       "      <td>Brooklyn</td>\n",
       "      <td>Starrett City</td>\n",
       "      <td>40.647589</td>\n",
       "      <td>-73.879370</td>\n",
       "      <td>19</td>\n",
       "    </tr>\n",
       "    <tr>\n",
       "      <th>1</th>\n",
       "      <td>Bronx</td>\n",
       "      <td>Melrose</td>\n",
       "      <td>40.819754</td>\n",
       "      <td>-73.909422</td>\n",
       "      <td>18</td>\n",
       "    </tr>\n",
       "    <tr>\n",
       "      <th>2</th>\n",
       "      <td>Bronx</td>\n",
       "      <td>Baychester</td>\n",
       "      <td>40.866858</td>\n",
       "      <td>-73.835798</td>\n",
       "      <td>18</td>\n",
       "    </tr>\n",
       "    <tr>\n",
       "      <th>3</th>\n",
       "      <td>Queens</td>\n",
       "      <td>Rockaway Beach</td>\n",
       "      <td>40.582802</td>\n",
       "      <td>-73.822361</td>\n",
       "      <td>17</td>\n",
       "    </tr>\n",
       "    <tr>\n",
       "      <th>4</th>\n",
       "      <td>Bronx</td>\n",
       "      <td>Mount Hope</td>\n",
       "      <td>40.848842</td>\n",
       "      <td>-73.908299</td>\n",
       "      <td>16</td>\n",
       "    </tr>\n",
       "  </tbody>\n",
       "</table>\n",
       "</div>"
      ],
      "text/plain": [
       "    Borough   Neighbourhood   Latitude  Longitude  Score\n",
       "0  Brooklyn   Starrett City  40.647589 -73.879370     19\n",
       "1     Bronx         Melrose  40.819754 -73.909422     18\n",
       "2     Bronx      Baychester  40.866858 -73.835798     18\n",
       "3    Queens  Rockaway Beach  40.582802 -73.822361     17\n",
       "4     Bronx      Mount Hope  40.848842 -73.908299     16"
      ]
     },
     "execution_count": 351,
     "metadata": {},
     "output_type": "execute_result"
    }
   ],
   "source": [
    "ny_map = folium.Map(location=[40.7306, -73.9352], zoom_start=10)\n",
    "heatmap_helper(ny_df2[[\"Latitude\", \"Longitude\", \"Score\"]], ny_map)\n",
    "\n",
    "ny_df_sorted = ny_df2.sort_values(by=\"Score\", ascending=False).iloc[0:5,:].reset_index(drop=True)\n",
    "ny_df_sorted.apply(lambda x: marker(x, ny_map), axis=1)\n",
    "ny_df_sorted"
   ]
  },
  {
   "cell_type": "code",
   "execution_count": 354,
   "id": "charitable-footage",
   "metadata": {},
   "outputs": [
    {
     "data": {
      "text/html": [
       "<div style=\"width:100%;\"><div style=\"position:relative;width:100%;height:0;padding-bottom:60%;\"><span style=\"color:#565656\">Make this Notebook Trusted to load map: File -> Trust Notebook</span><iframe src=\"about:blank\" style=\"position:absolute;width:100%;height:100%;left:0;top:0;border:none !important;\" data-html=%3C%21DOCTYPE%20html%3E%0A%3Chead%3E%20%20%20%20%0A%20%20%20%20%3Cmeta%20http-equiv%3D%22content-type%22%20content%3D%22text/html%3B%20charset%3DUTF-8%22%20/%3E%0A%20%20%20%20%0A%20%20%20%20%20%20%20%20%3Cscript%3E%0A%20%20%20%20%20%20%20%20%20%20%20%20L_NO_TOUCH%20%3D%20false%3B%0A%20%20%20%20%20%20%20%20%20%20%20%20L_DISABLE_3D%20%3D%20false%3B%0A%20%20%20%20%20%20%20%20%3C/script%3E%0A%20%20%20%20%0A%20%20%20%20%3Cstyle%3Ehtml%2C%20body%20%7Bwidth%3A%20100%25%3Bheight%3A%20100%25%3Bmargin%3A%200%3Bpadding%3A%200%3B%7D%3C/style%3E%0A%20%20%20%20%3Cstyle%3E%23map%20%7Bposition%3Aabsolute%3Btop%3A0%3Bbottom%3A0%3Bright%3A0%3Bleft%3A0%3B%7D%3C/style%3E%0A%20%20%20%20%3Cscript%20src%3D%22https%3A//cdn.jsdelivr.net/npm/leaflet%401.6.0/dist/leaflet.js%22%3E%3C/script%3E%0A%20%20%20%20%3Cscript%20src%3D%22https%3A//code.jquery.com/jquery-1.12.4.min.js%22%3E%3C/script%3E%0A%20%20%20%20%3Cscript%20src%3D%22https%3A//maxcdn.bootstrapcdn.com/bootstrap/3.2.0/js/bootstrap.min.js%22%3E%3C/script%3E%0A%20%20%20%20%3Cscript%20src%3D%22https%3A//cdnjs.cloudflare.com/ajax/libs/Leaflet.awesome-markers/2.0.2/leaflet.awesome-markers.js%22%3E%3C/script%3E%0A%20%20%20%20%3Clink%20rel%3D%22stylesheet%22%20href%3D%22https%3A//cdn.jsdelivr.net/npm/leaflet%401.6.0/dist/leaflet.css%22/%3E%0A%20%20%20%20%3Clink%20rel%3D%22stylesheet%22%20href%3D%22https%3A//maxcdn.bootstrapcdn.com/bootstrap/3.2.0/css/bootstrap.min.css%22/%3E%0A%20%20%20%20%3Clink%20rel%3D%22stylesheet%22%20href%3D%22https%3A//maxcdn.bootstrapcdn.com/bootstrap/3.2.0/css/bootstrap-theme.min.css%22/%3E%0A%20%20%20%20%3Clink%20rel%3D%22stylesheet%22%20href%3D%22https%3A//maxcdn.bootstrapcdn.com/font-awesome/4.6.3/css/font-awesome.min.css%22/%3E%0A%20%20%20%20%3Clink%20rel%3D%22stylesheet%22%20href%3D%22https%3A//cdnjs.cloudflare.com/ajax/libs/Leaflet.awesome-markers/2.0.2/leaflet.awesome-markers.css%22/%3E%0A%20%20%20%20%3Clink%20rel%3D%22stylesheet%22%20href%3D%22https%3A//cdn.jsdelivr.net/gh/python-visualization/folium/folium/templates/leaflet.awesome.rotate.min.css%22/%3E%0A%20%20%20%20%0A%20%20%20%20%20%20%20%20%20%20%20%20%3Cmeta%20name%3D%22viewport%22%20content%3D%22width%3Ddevice-width%2C%0A%20%20%20%20%20%20%20%20%20%20%20%20%20%20%20%20initial-scale%3D1.0%2C%20maximum-scale%3D1.0%2C%20user-scalable%3Dno%22%20/%3E%0A%20%20%20%20%20%20%20%20%20%20%20%20%3Cstyle%3E%0A%20%20%20%20%20%20%20%20%20%20%20%20%20%20%20%20%23map_fc1d5ad4bf324b7386facc3bf3dcd88f%20%7B%0A%20%20%20%20%20%20%20%20%20%20%20%20%20%20%20%20%20%20%20%20position%3A%20relative%3B%0A%20%20%20%20%20%20%20%20%20%20%20%20%20%20%20%20%20%20%20%20width%3A%20100.0%25%3B%0A%20%20%20%20%20%20%20%20%20%20%20%20%20%20%20%20%20%20%20%20height%3A%20100.0%25%3B%0A%20%20%20%20%20%20%20%20%20%20%20%20%20%20%20%20%20%20%20%20left%3A%200.0%25%3B%0A%20%20%20%20%20%20%20%20%20%20%20%20%20%20%20%20%20%20%20%20top%3A%200.0%25%3B%0A%20%20%20%20%20%20%20%20%20%20%20%20%20%20%20%20%7D%0A%20%20%20%20%20%20%20%20%20%20%20%20%3C/style%3E%0A%20%20%20%20%20%20%20%20%0A%20%20%20%20%3Cscript%20src%3D%22https%3A//cdn.jsdelivr.net/gh/python-visualization/folium%40master/folium/templates/leaflet_heat.min.js%22%3E%3C/script%3E%0A%3C/head%3E%0A%3Cbody%3E%20%20%20%20%0A%20%20%20%20%0A%20%20%20%20%20%20%20%20%20%20%20%20%3Cdiv%20class%3D%22folium-map%22%20id%3D%22map_fc1d5ad4bf324b7386facc3bf3dcd88f%22%20%3E%3C/div%3E%0A%20%20%20%20%20%20%20%20%0A%3C/body%3E%0A%3Cscript%3E%20%20%20%20%0A%20%20%20%20%0A%20%20%20%20%20%20%20%20%20%20%20%20var%20map_fc1d5ad4bf324b7386facc3bf3dcd88f%20%3D%20L.map%28%0A%20%20%20%20%20%20%20%20%20%20%20%20%20%20%20%20%22map_fc1d5ad4bf324b7386facc3bf3dcd88f%22%2C%0A%20%20%20%20%20%20%20%20%20%20%20%20%20%20%20%20%7B%0A%20%20%20%20%20%20%20%20%20%20%20%20%20%20%20%20%20%20%20%20center%3A%20%5B40.7306%2C%20-73.9352%5D%2C%0A%20%20%20%20%20%20%20%20%20%20%20%20%20%20%20%20%20%20%20%20crs%3A%20L.CRS.EPSG3857%2C%0A%20%20%20%20%20%20%20%20%20%20%20%20%20%20%20%20%20%20%20%20zoom%3A%2010%2C%0A%20%20%20%20%20%20%20%20%20%20%20%20%20%20%20%20%20%20%20%20zoomControl%3A%20true%2C%0A%20%20%20%20%20%20%20%20%20%20%20%20%20%20%20%20%20%20%20%20preferCanvas%3A%20false%2C%0A%20%20%20%20%20%20%20%20%20%20%20%20%20%20%20%20%7D%0A%20%20%20%20%20%20%20%20%20%20%20%20%29%3B%0A%0A%20%20%20%20%20%20%20%20%20%20%20%20%0A%0A%20%20%20%20%20%20%20%20%0A%20%20%20%20%0A%20%20%20%20%20%20%20%20%20%20%20%20var%20tile_layer_50bdac316ef9470b979f19421df659dc%20%3D%20L.tileLayer%28%0A%20%20%20%20%20%20%20%20%20%20%20%20%20%20%20%20%22https%3A//%7Bs%7D.tile.openstreetmap.org/%7Bz%7D/%7Bx%7D/%7By%7D.png%22%2C%0A%20%20%20%20%20%20%20%20%20%20%20%20%20%20%20%20%7B%22attribution%22%3A%20%22Data%20by%20%5Cu0026copy%3B%20%5Cu003ca%20href%3D%5C%22http%3A//openstreetmap.org%5C%22%5Cu003eOpenStreetMap%5Cu003c/a%5Cu003e%2C%20under%20%5Cu003ca%20href%3D%5C%22http%3A//www.openstreetmap.org/copyright%5C%22%5Cu003eODbL%5Cu003c/a%5Cu003e.%22%2C%20%22detectRetina%22%3A%20false%2C%20%22maxNativeZoom%22%3A%2018%2C%20%22maxZoom%22%3A%2018%2C%20%22minZoom%22%3A%200%2C%20%22noWrap%22%3A%20false%2C%20%22opacity%22%3A%201%2C%20%22subdomains%22%3A%20%22abc%22%2C%20%22tms%22%3A%20false%7D%0A%20%20%20%20%20%20%20%20%20%20%20%20%29.addTo%28map_fc1d5ad4bf324b7386facc3bf3dcd88f%29%3B%0A%20%20%20%20%20%20%20%20%0A%20%20%20%20%0A%20%20%20%20%20%20%20%20%20%20%20%20var%20heat_map_11e3e896442343af993fef287a73f972%20%3D%20L.heatLayer%28%0A%20%20%20%20%20%20%20%20%20%20%20%20%20%20%20%20%5B%5B40.89470517661%2C%20-73.84720052054902%2C%203.0%5D%2C%20%5B40.87429419303012%2C%20-73.82993910812398%2C%2016.0%5D%2C%20%5B40.887555677350775%2C%20-73.82780644716412%2C%208.0%5D%2C%20%5B40.89543742690383%2C%20-73.90564259591682%2C%207.0%5D%2C%20%5B40.890834493891305%2C%20-73.9125854610857%2C%204.0%5D%2C%20%5B40.88168737120521%2C%20-73.90281798724604%2C%206.0%5D%2C%20%5B40.87655077879964%2C%20-73.91065965862981%2C%2016.0%5D%2C%20%5B40.89827261213805%2C%20-73.86731496814176%2C%202.0%5D%2C%20%5B40.87722415599446%2C%20-73.8793907395681%2C%2012.0%5D%2C%20%5B40.88103887819211%2C%20-73.85744642974207%2C%207.0%5D%2C%20%5B40.866858107252696%2C%20-73.83579759808117%2C%2018.0%5D%2C%20%5B40.85741349808865%2C%20-73.85475564017999%2C%204.0%5D%2C%20%5B40.84724670491813%2C%20-73.78648845267413%2C%209.0%5D%2C%20%5B40.870185164975325%2C%20-73.8855121841913%2C%2013.0%5D%2C%20%5B40.85572707719664%2C%20-73.9104159619131%2C%2015.0%5D%2C%20%5B40.84789792606271%2C%20-73.91967159119565%2C%2011.0%5D%2C%20%5B40.86099679638654%2C%20-73.89642655981623%2C%207.0%5D%2C%20%5B40.84269615786053%2C%20-73.88735617532338%2C%2013.0%5D%2C%20%5B40.83947505672653%2C%20-73.87774474910545%2C%2010.0%5D%2C%20%5B40.836623010706056%2C%20-73.9261020935813%2C%202.0%5D%2C%20%5B40.819754370594936%2C%20-73.90942160757436%2C%2018.0%5D%2C%20%5B40.80623874935177%2C%20-73.91609987487575%2C%205.0%5D%2C%20%5B40.801663627756206%2C%20-73.91322139386135%2C%207.0%5D%2C%20%5B40.81509904545822%2C%20-73.8957882009446%2C%2013.0%5D%2C%20%5B40.80972987938709%2C%20-73.88331505955291%2C%203.0%5D%2C%20%5B40.82359198585534%2C%20-73.90150648943059%2C%2010.0%5D%2C%20%5B40.821012197914015%2C%20-73.86574609554924%2C%2012.0%5D%2C%20%5B40.80655112003589%2C%20-73.85414416189266%2C%202.0%5D%2C%20%5B40.81510925804005%2C%20-73.81635002158441%2C%203.0%5D%2C%20%5B40.844245936947374%2C%20-73.8240992675385%2C%209.0%5D%2C%20%5B40.837937822267286%2C%20-73.85600310535783%2C%207.0%5D%2C%20%5B40.8406194964327%2C%20-73.84219407604444%2C%206.0%5D%2C%20%5B40.84360847124718%2C%20-73.8662991807561%2C%2012.0%5D%2C%20%5B40.847549063536334%2C%20-73.85040178030421%2C%208.0%5D%2C%20%5B40.85727710073895%2C%20-73.88845196134804%2C%203.0%5D%2C%20%5B40.88139497727086%2C%20-73.91719048210393%2C%208.0%5D%2C%20%5B40.90854282950666%2C%20-73.90453054908927%2C%203.0%5D%2C%20%5B40.85064140940335%2C%20-73.8320737824047%2C%208.0%5D%2C%20%5B40.82657951686922%2C%20-73.82620275994073%2C%205.0%5D%2C%20%5B40.821986118163494%2C%20-73.81388514428619%2C%202.0%5D%2C%20%5B40.819014376988314%2C%20-73.84802729582735%2C%208.0%5D%2C%20%5B40.87137078192371%2C%20-73.86332361652777%2C%205.0%5D%2C%20%5B40.86296562477998%2C%20-73.84161194831223%2C%204.0%5D%2C%20%5B40.83428380733851%2C%20-73.91558941773444%2C%2010.0%5D%2C%20%5B40.82977429787161%2C%20-73.85053524451935%2C%2014.0%5D%2C%20%5B40.88456130303732%2C%20-73.84808271877168%2C%203.0%5D%2C%20%5B40.625801065010656%2C%20-74.03062069353813%2C%204.0%5D%2C%20%5B40.61100890202044%2C%20-73.99517998380729%2C%201.0%5D%2C%20%5B40.64510294925429%2C%20-74.01031618527784%2C%203.0%5D%2C%20%5B40.7302009848647%2C%20-73.95424093127393%2C%203.0%5D%2C%20%5B40.59526001306593%2C%20-73.97347087708445%2C%205.0%5D%2C%20%5B40.57682506566604%2C%20-73.96509448785336%2C%2015.0%5D%2C%20%5B40.58689012678384%2C%20-73.94318640482979%2C%2010.0%5D%2C%20%5B40.61443251335098%2C%20-73.95743840559939%2C%209.0%5D%2C%20%5B40.63632589026677%2C%20-73.95840106533903%2C%202.0%5D%2C%20%5B40.67082917695294%2C%20-73.94329119073582%2C%2011.0%5D%2C%20%5B40.64171776668961%2C%20-73.93610256185836%2C%205.0%5D%2C%20%5B40.642381958003526%2C%20-73.98042110559474%2C%205.0%5D%2C%20%5B40.65694583575104%2C%20-73.98007340430172%2C%205.0%5D%2C%20%5B40.676822262254724%2C%20-73.9648592426269%2C%204.0%5D%2C%20%5B40.66394994339755%2C%20-73.91023536176607%2C%207.0%5D%2C%20%5B40.70714439344251%2C%20-73.95811529220927%2C%202.0%5D%2C%20%5B40.69811611017901%2C%20-73.92525797487045%2C%204.0%5D%2C%20%5B40.687231607720456%2C%20-73.94178488690297%2C%204.0%5D%2C%20%5B40.695863722724084%2C%20-73.99378225496424%2C%2014.0%5D%2C%20%5B40.687919722485574%2C%20-73.99856139218463%2C%205.0%5D%2C%20%5B40.680540231076485%2C%20-73.99465372828006%2C%202.0%5D%2C%20%5B40.676253230250886%2C%20-74.0127589747356%2C%2011.0%5D%2C%20%5B40.673931143187154%2C%20-73.99444087145339%2C%204.0%5D%2C%20%5B40.68852726018977%2C%20-73.97290574369092%2C%205.0%5D%2C%20%5B40.67232052268197%2C%20-73.97705030183924%2C%203.0%5D%2C%20%5B40.68239101144211%2C%20-73.87661596457296%2C%205.0%5D%2C%20%5B40.669925700847045%2C%20-73.88069863917366%2C%205.0%5D%2C%20%5B40.64758905230874%2C%20-73.87936970045875%2C%2019.0%5D%2C%20%5B40.63556432797428%2C%20-73.90209269778966%2C%202.0%5D%2C%20%5B40.630446043757466%2C%20-73.92911302644674%2C%206.0%5D%2C%20%5B40.606336421685626%2C%20-73.90818571777423%2C%203.0%5D%2C%20%5B40.57791350308657%2C%20-73.94353722891886%2C%205.0%5D%2C%20%5B40.57429256471601%2C%20-73.98868295821637%2C%2014.0%5D%2C%20%5B40.59951870282238%2C%20-73.99875221443519%2C%204.0%5D%2C%20%5B40.633130512758015%2C%20-73.99049823044811%2C%206.0%5D%2C%20%5B40.619219457722636%2C%20-74.01931375636022%2C%203.0%5D%2C%20%5B40.590848433902046%2C%20-73.93010170691196%2C%207.0%5D%2C%20%5B40.609747779894604%2C%20-73.93134404108497%2C%208.0%5D%2C%20%5B40.693229421881504%2C%20-73.96784306216367%2C%203.0%5D%2C%20%5B40.57637537890224%2C%20-74.0078731120024%2C%206.0%5D%2C%20%5B40.69084402109802%2C%20-73.98346337431099%2C%205.0%5D%2C%20%5B40.685682912091444%2C%20-73.98374824115798%2C%205.0%5D%2C%20%5B40.658420017469815%2C%20-73.95489867077713%2C%203.0%5D%2C%20%5B40.678402554795355%2C%20-73.91306831787395%2C%203.0%5D%2C%20%5B40.67856995727479%2C%20-73.86797598081334%2C%207.0%5D%2C%20%5B40.61514955045308%2C%20-73.89855633630317%2C%201.0%5D%2C%20%5B40.62559589869843%2C%20-73.95759523489838%2C%207.0%5D%2C%20%5B40.647008603185185%2C%20-73.96261316716048%2C%209.0%5D%2C%20%5B40.62384524478419%2C%20-73.91607483951324%2C%208.0%5D%2C%20%5B40.70849241041548%2C%20-73.93885815269195%2C%203.0%5D%2C%20%5B40.714822906532014%2C%20-73.95880857587582%2C%201.0%5D%2C%20%5B40.71086147265064%2C%20-73.95800095153331%2C%201.0%5D%2C%20%5B40.61305976667942%2C%20-73.96836678035541%2C%2012.0%5D%2C%20%5B40.61476812694226%2C%20-74.03197914537984%2C%207.0%5D%2C%20%5B40.71561842231432%2C%20-73.99427936255978%2C%200.0%5D%2C%20%5B40.85190252555305%2C%20-73.93690027985234%2C%208.0%5D%2C%20%5B40.86768396449915%2C%20-73.92121042203897%2C%207.0%5D%2C%20%5B40.823604284811935%2C%20-73.94968791883366%2C%205.0%5D%2C%20%5B40.8169344294978%2C%20-73.9573853935188%2C%206.0%5D%2C%20%5B40.81597606742414%2C%20-73.94321112603905%2C%203.0%5D%2C%20%5B40.79224946663033%2C%20-73.94418223148524%2C%207.0%5D%2C%20%5B40.775638573301805%2C%20-73.96050763135%2C%203.0%5D%2C%20%5B40.775929849884875%2C%20-73.94711784471826%2C%204.0%5D%2C%20%5B40.76811265828733%2C%20-73.9588596881376%2C%204.0%5D%2C%20%5B40.76215960576283%2C%20-73.94916769227953%2C%2012.0%5D%2C%20%5B40.787657998534854%2C%20-73.97705923630603%2C%207.0%5D%2C%20%5B40.77352888942166%2C%20-73.98533777001262%2C%206.0%5D%2C%20%5B40.75910089146212%2C%20-73.99611936309479%2C%204.0%5D%2C%20%5B40.75469110270623%2C%20-73.98166882730304%2C%206.0%5D%2C%20%5B40.748303077252174%2C%20-73.97833207924127%2C%2013.0%5D%2C%20%5B40.744034706747975%2C%20-74.00311633472813%2C%209.0%5D%2C%20%5B40.72693288536128%2C%20-73.99991402945902%2C%203.0%5D%2C%20%5B40.727846777270244%2C%20-73.98222616506416%2C%204.0%5D%2C%20%5B40.71780674892765%2C%20-73.98089031999291%2C%204.0%5D%2C%20%5B40.721521967443216%2C%20-74.01068328559087%2C%209.0%5D%2C%20%5B40.71932379395907%2C%20-73.99730467208073%2C%201.0%5D%2C%20%5B40.72218384131794%2C%20-74.00065666959759%2C%202.0%5D%2C%20%5B40.73443393572434%2C%20-74.00617998126812%2C%207.0%5D%2C%20%5B40.797307041702865%2C%20-73.96428617740655%2C%208.0%5D%2C%20%5B40.807999738165826%2C%20-73.96389627905332%2C%207.0%5D%2C%20%5B40.737209832715%2C%20-73.98137594833541%2C%209.0%5D%2C%20%5B40.71193198394565%2C%20-74.01686930508617%2C%2010.0%5D%2C%20%5B40.70710710727048%2C%20-74.0106654452127%2C%206.0%5D%2C%20%5B40.76850859335492%2C%20-73.91565374304234%2C%204.0%5D%2C%20%5B40.74634908860222%2C%20-73.90184166838284%2C%207.0%5D%2C%20%5B40.75198138007367%2C%20-73.88282109164365%2C%204.0%5D%2C%20%5B40.744048505122024%2C%20-73.88165622288388%2C%202.0%5D%2C%20%5B40.65422527738487%2C%20-73.8381376460028%2C%205.0%5D%2C%20%5B40.74238175015667%2C%20-73.85682497345258%2C%2013.0%5D%2C%20%5B40.72526378216503%2C%20-73.84447500788983%2C%205.0%5D%2C%20%5B40.7051790354148%2C%20-73.82981905825703%2C%203.0%5D%2C%20%5B40.69794731471763%2C%20-73.83183321446887%2C%203.0%5D%2C%20%5B40.76445419697846%2C%20-73.83177300329582%2C%205.0%5D%2C%20%5B40.75021734610528%2C%20-73.93920223915505%2C%205.0%5D%2C%20%5B40.74017628351924%2C%20-73.92691617561577%2C%209.0%5D%2C%20%5B40.76407323883091%2C%20-73.86704147658772%2C%201.0%5D%2C%20%5B40.725427374093606%2C%20-73.89621713626859%2C%2011.0%5D%2C%20%5B40.70832315613858%2C%20-73.90143517559589%2C%206.0%5D%2C%20%5B40.70276242967838%2C%20-73.87074167435605%2C%204.0%5D%2C%20%5B40.72897409480735%2C%20-73.8578268690537%2C%2011.0%5D%2C%20%5B40.68988687915789%2C%20-73.8581104655432%2C%206.0%5D%2C%20%5B40.680708468265415%2C%20-73.84320266173447%2C%206.0%5D%2C%20%5B40.66854957767195%2C%20-73.80986478649041%2C%206.0%5D%2C%20%5B40.784902749260205%2C%20-73.84304528896125%2C%2012.0%5D%2C%20%5B40.78129076602694%2C%20-73.81420216610863%2C%2011.0%5D%2C%20%5B40.76604063281064%2C%20-73.7742736306867%2C%201.0%5D%2C%20%5B40.76172954903262%2C%20-73.79176243728061%2C%202.0%5D%2C%20%5B40.7708261928267%2C%20-73.7388977558074%2C%205.0%5D%2C%20%5B40.76684609790763%2C%20-73.7424982072733%2C%205.0%5D%2C%20%5B40.74944079974332%2C%20-73.71548118999145%2C%204.0%5D%2C%20%5B40.72857318176675%2C%20-73.72012814826903%2C%205.0%5D%2C%20%5B40.722578244228046%2C%20-73.82087764933566%2C%2011.0%5D%2C%20%5B40.7343944653313%2C%20-73.78271337003264%2C%2010.0%5D%2C%20%5B40.71093547252271%2C%20-73.81174822458634%2C%206.0%5D%2C%20%5B40.70465736068717%2C%20-73.79690165888289%2C%2010.0%5D%2C%20%5B40.74561857141855%2C%20-73.75494976234332%2C%205.0%5D%2C%20%5B40.718893092167356%2C%20-73.73871484578424%2C%201.0%5D%2C%20%5B40.71124344191904%2C%20-73.75925009335594%2C%206.0%5D%2C%20%5B40.696911253789885%2C%20-73.7904261313554%2C%207.0%5D%2C%20%5B40.69444538522359%2C%20-73.75867603727717%2C%202.0%5D%2C%20%5B40.67521139591733%2C%20-73.77258787620906%2C%203.0%5D%2C%20%5B40.666230490368584%2C%20-73.76042092682287%2C%203.0%5D%2C%20%5B40.692774639160845%2C%20-73.73526873708026%2C%203.0%5D%2C%20%5B40.659816433428084%2C%20-73.73526079428278%2C%205.0%5D%2C%20%5B40.603134432500894%2C%20-73.75497968043872%2C%205.0%5D%2C%20%5B40.60302658351238%2C%20-73.8200548911032%2C%202.0%5D%2C%20%5B40.55740128845452%2C%20-73.92551196994168%2C%202.0%5D%2C%20%5B40.775923015642896%2C%20-73.90228960391673%2C%205.0%5D%2C%20%5B40.79278140360048%2C%20-73.80436451720988%2C%209.0%5D%2C%20%5B40.782842806245554%2C%20-73.7768022262158%2C%2012.0%5D%2C%20%5B40.595641807368494%2C%20-73.77613282391705%2C%208.0%5D%2C%20%5B40.58914394372971%2C%20-73.79199233136943%2C%2010.0%5D%2C%20%5B40.582801696845586%2C%20-73.82236121088751%2C%2017.0%5D%2C%20%5B40.572036730217015%2C%20-73.85754672410827%2C%2010.0%5D%2C%20%5B40.741378421945434%2C%20-73.70884705889246%2C%2010.0%5D%2C%20%5B40.7209572076444%2C%20-73.76714166714729%2C%2010.0%5D%2C%20%5B40.71680483014613%2C%20-73.7872269693666%2C%206.0%5D%2C%20%5B40.7445723092867%2C%20-73.82580915110559%2C%206.0%5D%2C%20%5B40.723824901829204%2C%20-73.79760300912672%2C%207.0%5D%2C%20%5B40.761704526054146%2C%20-73.93157506072878%2C%205.0%5D%2C%20%5B40.66391841925139%2C%20-73.84963782402441%2C%207.0%5D%2C%20%5B40.66788389660247%2C%20-73.74025607989822%2C%207.0%5D%2C%20%5B40.736074570830795%2C%20-73.8625247141374%2C%2011.0%5D%2C%20%5B40.57615556543109%2C%20-73.8540175039252%2C%2012.0%5D%2C%20%5B40.58034295646131%2C%20-73.84153370226186%2C%2011.0%5D%2C%20%5B40.59771061565768%2C%20-73.79664750844047%2C%207.0%5D%2C%20%5B40.66000322733613%2C%20-73.75175310731153%2C%203.0%5D%2C%20%5B40.73301404027834%2C%20-73.73889198912481%2C%2011.0%5D%2C%20%5B40.7540709990489%2C%20-73.85751790676447%2C%208.0%5D%2C%20%5B40.7146110815117%2C%20-73.8410221123401%2C%204.0%5D%2C%20%5B40.6449815710044%2C%20-74.07935312512797%2C%2014.0%5D%2C%20%5B40.64061455913511%2C%20-74.08701650516625%2C%204.0%5D%2C%20%5B40.62692762538176%2C%20-74.07790192660066%2C%205.0%5D%2C%20%5B40.61530494652761%2C%20-74.06980526716141%2C%2010.0%5D%2C%20%5B40.63187892654607%2C%20-74.1071817826561%2C%201.0%5D%2C%20%5B40.624184791313006%2C%20-74.08724819983729%2C%204.0%5D%2C%20%5B40.59706851814673%2C%20-74.1113288180088%2C%200.0%5D%2C%20%5B40.58024741350956%2C%20-74.0795529253982%2C%205.0%5D%2C%20%5B40.63366930554365%2C%20-74.12943426797008%2C%205.0%5D%2C%20%5B40.632546390481124%2C%20-74.15008537046981%2C%206.0%5D%2C%20%5B40.63968297845542%2C%20-74.17464532993542%2C%202.0%5D%2C%20%5B40.61333593766742%2C%20-74.11918058534842%2C%205.0%5D%2C%20%5B40.594252379161695%2C%20-74.16496031329827%2C%203.0%5D%2C%20%5B40.58631375103281%2C%20-74.19073717538116%2C%202.0%5D%2C%20%5B40.57257231820632%2C%20-74.1164794360638%2C%209.0%5D%2C%20%5B40.5584622432888%2C%20-74.12156593771896%2C%203.0%5D%2C%20%5B40.549480228713605%2C%20-74.14932381490992%2C%205.0%5D%2C%20%5B40.542230747450745%2C%20-74.1643308041936%2C%202.0%5D%2C%20%5B40.53811417474507%2C%20-74.17854866165878%2C%202.0%5D%2C%20%5B40.541967622888755%2C%20-74.20524582480326%2C%205.0%5D%2C%20%5B40.50533376115642%2C%20-74.24656934235283%2C%204.0%5D%2C%20%5B40.637316067110326%2C%20-74.08055351790115%2C%209.0%5D%2C%20%5B40.61919310792676%2C%20-74.09629029235458%2C%206.0%5D%2C%20%5B40.643675183340974%2C%20-73.96101312466779%2C%206.0%5D%2C%20%5B40.66094656188111%2C%20-73.93718680559314%2C%207.0%5D%2C%20%5B40.655572313280764%2C%20-73.92688212616955%2C%204.0%5D%2C%20%5B40.60919044434558%2C%20-74.08015734936296%2C%2010.0%5D%2C%20%5B40.62109047275409%2C%20-74.13304143951704%2C%204.0%5D%2C%20%5B40.620171512231884%2C%20-74.15315246387762%2C%207.0%5D%2C%20%5B40.63532509911492%2C%20-74.16510420241124%2C%207.0%5D%2C%20%5B40.596312571276734%2C%20-74.06712363225574%2C%207.0%5D%2C%20%5B40.59826835959991%2C%20-74.0766743627905%2C%208.0%5D%2C%20%5B40.59632891379513%2C%20-74.08751118005578%2C%204.0%5D%2C%20%5B40.588672948199275%2C%20-74.09639905312521%2C%204.0%5D%2C%20%5B40.57352690574283%2C%20-74.09348266303591%2C%207.0%5D%2C%20%5B40.57621558711788%2C%20-74.10585598545434%2C%2011.0%5D%2C%20%5B40.56425549307335%2C%20-74.10432707469124%2C%208.0%5D%2C%20%5B40.531911920489605%2C%20-74.19174105747814%2C%202.0%5D%2C%20%5B40.524699376118136%2C%20-74.21983106616777%2C%204.0%5D%2C%20%5B40.50608165346305%2C%20-74.22950350260027%2C%200.0%5D%2C%20%5B40.53053148283314%2C%20-74.23215775896526%2C%202.0%5D%2C%20%5B40.54940400650072%2C%20-74.21572851113952%2C%201.0%5D%2C%20%5B40.54928582278321%2C%20-74.18588674583893%2C%205.0%5D%2C%20%5B40.555295236173194%2C%20-74.17079414786092%2C%202.0%5D%2C%20%5B40.58913894875281%2C%20-74.15902208156601%2C%209.0%5D%2C%20%5B40.60577868452358%2C%20-74.18725638381567%2C%205.0%5D%2C%20%5B40.6095918004203%2C%20-74.15940948657122%2C%2010.0%5D%2C%20%5B40.7826825671257%2C%20-73.95325646837112%2C%206.0%5D%2C%20%5B40.72325901885768%2C%20-73.98843368023597%2C%202.0%5D%2C%20%5B40.71522892046282%2C%20-74.00541529873355%2C%204.0%5D%2C%20%5B40.7485096643122%2C%20-73.98871313285247%2C%202.0%5D%2C%20%5B40.56960594275505%2C%20-74.1340572986257%2C%204.0%5D%2C%20%5B40.60971934079284%2C%20-74.06667766061771%2C%2011.0%5D%2C%20%5B40.61917845202843%2C%20-74.072642445484%2C%209.0%5D%2C%20%5B40.6044731896879%2C%20-74.08402364740358%2C%2012.0%5D%2C%20%5B40.606794394801%2C%20-74.09776206972522%2C%203.0%5D%2C%20%5B40.63563000681151%2C%20-74.09805062373887%2C%207.0%5D%2C%20%5B40.63843283794795%2C%20-74.18622331749823%2C%202.0%5D%2C%20%5B40.630146741193826%2C%20-74.1418167896889%2C%2012.0%5D%2C%20%5B40.652117451793494%2C%20-73.91665331978048%2C%2013.0%5D%2C%20%5B40.6627442796966%2C%20-73.88511776379292%2C%209.0%5D%2C%20%5B40.63131755039667%2C%20-73.90233474295836%2C%207.0%5D%2C%20%5B40.61597423962336%2C%20-73.91515391550404%2C%207.0%5D%2C%20%5B40.71145964370482%2C%20-73.79646462081593%2C%209.0%5D%2C%20%5B40.73350025429757%2C%20-73.79671678028349%2C%205.0%5D%2C%20%5B40.73493618075478%2C%20-73.80486120040537%2C%204.0%5D%2C%20%5B40.7703173929982%2C%20-73.89467996270574%2C%208.0%5D%2C%20%5B40.83142834161548%2C%20-73.90119903387667%2C%203.0%5D%2C%20%5B40.824780490842905%2C%20-73.91584652759009%2C%2012.0%5D%2C%20%5B40.84382617671654%2C%20-73.91655551964419%2C%2012.0%5D%2C%20%5B40.84884160724665%2C%20-73.90829930881988%2C%2016.0%5D%2C%20%5B40.76028033131374%2C%20-73.96355614094303%2C%209.0%5D%2C%20%5B40.743414090073536%2C%20-73.95386782130745%2C%205.0%5D%2C%20%5B40.75204236950722%2C%20-73.96770824581834%2C%208.0%5D%2C%20%5B40.746917410740195%2C%20-73.97121928722265%2C%2010.0%5D%2C%20%5B40.73099955477061%2C%20-73.97405170469203%2C%207.0%5D%2C%20%5B40.739673047638426%2C%20-73.9909471052826%2C%205.0%5D%2C%20%5B40.74565180608076%2C%20-73.91819286431682%2C%209.0%5D%2C%20%5B40.73725071694497%2C%20-73.93244235260178%2C%203.0%5D%2C%20%5B40.70328109093014%2C%20-73.99550751888415%2C%2013.0%5D%2C%20%5B40.70332149882874%2C%20-73.98111603592393%2C%2012.0%5D%2C%20%5B40.67503986503237%2C%20-73.93053108817338%2C%2014.0%5D%2C%20%5B40.67786104769531%2C%20-73.90331684852599%2C%202.0%5D%2C%20%5B40.70317632822692%2C%20-73.9887528074504%2C%2012.0%5D%2C%20%5B40.60180957631444%2C%20-74.12059399718001%2C%203.0%5D%2C%20%5B40.60370692627371%2C%20-74.13208447484298%2C%209.0%5D%2C%20%5B40.541139922091766%2C%20-74.21776636068567%2C%203.0%5D%2C%20%5B40.579118742961214%2C%20-74.12727240604946%2C%201.0%5D%2C%20%5B40.56737588957032%2C%20-73.89213760232822%2C%205.0%5D%2C%20%5B40.598525095137255%2C%20-73.95918459428702%2C%206.0%5D%2C%20%5B40.716414511158185%2C%20-73.88114319200604%2C%2011.0%5D%2C%20%5B40.52626406734812%2C%20-74.20152556457658%2C%201.0%5D%2C%20%5B40.57650629379489%2C%20-74.13792663771568%2C%202.0%5D%2C%20%5B40.51954145748909%2C%20-74.22957080626941%2C%204.0%5D%2C%20%5B40.79060155670148%2C%20-73.82667757138641%2C%208.0%5D%2C%20%5B40.6819989345173%2C%20-73.890345709872%2C%203.0%5D%2C%20%5B40.60937770113766%2C%20-73.94841515328893%2C%206.0%5D%2C%20%5B40.85272297633017%2C%20-73.86172577555115%2C%209.0%5D%2C%20%5B40.86578787802982%2C%20-73.85931863221647%2C%207.0%5D%2C%20%5B40.8703923914147%2C%20-73.90152264513144%2C%205.0%5D%2C%20%5B40.64692606658579%2C%20-73.94817709920184%2C%208.0%5D%2C%20%5B40.75665808227519%2C%20-74.00011136202637%2C%204.0%5D%2C%20%5B40.58733774018741%2C%20-73.80553002968718%2C%2014.0%5D%2C%20%5B40.611321691283834%2C%20-73.76596781445627%2C%203.0%5D%2C%20%5B40.756091297094706%2C%20-73.94563070334091%2C%206.0%5D%2C%20%5B40.61731079252983%2C%20-74.08173992211962%2C%206.0%5D%5D%2C%0A%20%20%20%20%20%20%20%20%20%20%20%20%20%20%20%20%7B%22blur%22%3A%2015%2C%20%22gradient%22%3A%20%7B%220.1%22%3A%20%22darkblue%22%2C%20%220.4%22%3A%20%22green%22%2C%20%220.6%22%3A%20%22yellow%22%2C%20%220.7%22%3A%20%22orange%22%2C%20%220.8%22%3A%20%22red%22%2C%20%220.9%22%3A%20%22darkred%22%2C%20%221.0%22%3A%20%22black%22%7D%2C%20%22maxZoom%22%3A%2018%2C%20%22minOpacity%22%3A%200.5%2C%20%22radius%22%3A%2013%7D%0A%20%20%20%20%20%20%20%20%20%20%20%20%29.addTo%28map_fc1d5ad4bf324b7386facc3bf3dcd88f%29%3B%0A%20%20%20%20%20%20%20%20%0A%20%20%20%20%0A%20%20%20%20%20%20%20%20%20%20%20%20var%20marker_453b11b962714e4e96ded8486efb1452%20%3D%20L.marker%28%0A%20%20%20%20%20%20%20%20%20%20%20%20%20%20%20%20%5B40.64758905230874%2C%20-73.87936970045875%5D%2C%0A%20%20%20%20%20%20%20%20%20%20%20%20%20%20%20%20%7B%7D%0A%20%20%20%20%20%20%20%20%20%20%20%20%29.addTo%28map_fc1d5ad4bf324b7386facc3bf3dcd88f%29%3B%0A%20%20%20%20%20%20%20%20%0A%20%20%20%20%0A%20%20%20%20%20%20%20%20var%20popup_dafa1487a7b9422a8ad4903e7713929f%20%3D%20L.popup%28%7B%22maxWidth%22%3A%20%22100%25%22%7D%29%3B%0A%0A%20%20%20%20%20%20%20%20%0A%20%20%20%20%20%20%20%20%20%20%20%20var%20html_0d2aefc38a9d44f1bddc90fbc5e1ae7b%20%3D%20%24%28%60%3Cdiv%20id%3D%22html_0d2aefc38a9d44f1bddc90fbc5e1ae7b%22%20style%3D%22width%3A%20100.0%25%3B%20height%3A%20100.0%25%3B%22%3ETop%201%20-%20Starrett%20City%3C/div%3E%60%29%5B0%5D%3B%0A%20%20%20%20%20%20%20%20%20%20%20%20popup_dafa1487a7b9422a8ad4903e7713929f.setContent%28html_0d2aefc38a9d44f1bddc90fbc5e1ae7b%29%3B%0A%20%20%20%20%20%20%20%20%0A%0A%20%20%20%20%20%20%20%20marker_453b11b962714e4e96ded8486efb1452.bindPopup%28popup_dafa1487a7b9422a8ad4903e7713929f%29%0A%20%20%20%20%20%20%20%20%3B%0A%0A%20%20%20%20%20%20%20%20%0A%20%20%20%20%0A%20%20%20%20%0A%20%20%20%20%20%20%20%20%20%20%20%20var%20marker_1b5ced3ef8eb4301808c38a5c1534658%20%3D%20L.marker%28%0A%20%20%20%20%20%20%20%20%20%20%20%20%20%20%20%20%5B40.819754370594936%2C%20-73.90942160757436%5D%2C%0A%20%20%20%20%20%20%20%20%20%20%20%20%20%20%20%20%7B%7D%0A%20%20%20%20%20%20%20%20%20%20%20%20%29.addTo%28map_fc1d5ad4bf324b7386facc3bf3dcd88f%29%3B%0A%20%20%20%20%20%20%20%20%0A%20%20%20%20%0A%20%20%20%20%20%20%20%20var%20popup_377e8927c873473ea22f4f2a82a40bb4%20%3D%20L.popup%28%7B%22maxWidth%22%3A%20%22100%25%22%7D%29%3B%0A%0A%20%20%20%20%20%20%20%20%0A%20%20%20%20%20%20%20%20%20%20%20%20var%20html_033d0016bb69421286c8328b417aa53d%20%3D%20%24%28%60%3Cdiv%20id%3D%22html_033d0016bb69421286c8328b417aa53d%22%20style%3D%22width%3A%20100.0%25%3B%20height%3A%20100.0%25%3B%22%3ETop%202%20-%20Melrose%3C/div%3E%60%29%5B0%5D%3B%0A%20%20%20%20%20%20%20%20%20%20%20%20popup_377e8927c873473ea22f4f2a82a40bb4.setContent%28html_033d0016bb69421286c8328b417aa53d%29%3B%0A%20%20%20%20%20%20%20%20%0A%0A%20%20%20%20%20%20%20%20marker_1b5ced3ef8eb4301808c38a5c1534658.bindPopup%28popup_377e8927c873473ea22f4f2a82a40bb4%29%0A%20%20%20%20%20%20%20%20%3B%0A%0A%20%20%20%20%20%20%20%20%0A%20%20%20%20%0A%20%20%20%20%0A%20%20%20%20%20%20%20%20%20%20%20%20var%20marker_f3183e632a754108a6d0883ead47b5df%20%3D%20L.marker%28%0A%20%20%20%20%20%20%20%20%20%20%20%20%20%20%20%20%5B40.866858107252696%2C%20-73.83579759808117%5D%2C%0A%20%20%20%20%20%20%20%20%20%20%20%20%20%20%20%20%7B%7D%0A%20%20%20%20%20%20%20%20%20%20%20%20%29.addTo%28map_fc1d5ad4bf324b7386facc3bf3dcd88f%29%3B%0A%20%20%20%20%20%20%20%20%0A%20%20%20%20%0A%20%20%20%20%20%20%20%20var%20popup_b7c0bc07489346d695fb2fbafa1508ab%20%3D%20L.popup%28%7B%22maxWidth%22%3A%20%22100%25%22%7D%29%3B%0A%0A%20%20%20%20%20%20%20%20%0A%20%20%20%20%20%20%20%20%20%20%20%20var%20html_905247fe6e3743c5a77a600a1b3bf32a%20%3D%20%24%28%60%3Cdiv%20id%3D%22html_905247fe6e3743c5a77a600a1b3bf32a%22%20style%3D%22width%3A%20100.0%25%3B%20height%3A%20100.0%25%3B%22%3ETop%203%20-%20Baychester%3C/div%3E%60%29%5B0%5D%3B%0A%20%20%20%20%20%20%20%20%20%20%20%20popup_b7c0bc07489346d695fb2fbafa1508ab.setContent%28html_905247fe6e3743c5a77a600a1b3bf32a%29%3B%0A%20%20%20%20%20%20%20%20%0A%0A%20%20%20%20%20%20%20%20marker_f3183e632a754108a6d0883ead47b5df.bindPopup%28popup_b7c0bc07489346d695fb2fbafa1508ab%29%0A%20%20%20%20%20%20%20%20%3B%0A%0A%20%20%20%20%20%20%20%20%0A%20%20%20%20%0A%20%20%20%20%0A%20%20%20%20%20%20%20%20%20%20%20%20var%20marker_7c4d7d1a5eb842b4bea867fe6675b6fd%20%3D%20L.marker%28%0A%20%20%20%20%20%20%20%20%20%20%20%20%20%20%20%20%5B40.582801696845586%2C%20-73.82236121088751%5D%2C%0A%20%20%20%20%20%20%20%20%20%20%20%20%20%20%20%20%7B%7D%0A%20%20%20%20%20%20%20%20%20%20%20%20%29.addTo%28map_fc1d5ad4bf324b7386facc3bf3dcd88f%29%3B%0A%20%20%20%20%20%20%20%20%0A%20%20%20%20%0A%20%20%20%20%20%20%20%20var%20popup_e70741fd230a4312b86b55638a3049ef%20%3D%20L.popup%28%7B%22maxWidth%22%3A%20%22100%25%22%7D%29%3B%0A%0A%20%20%20%20%20%20%20%20%0A%20%20%20%20%20%20%20%20%20%20%20%20var%20html_0afc8d28658a49cb849368ec6aacc7d3%20%3D%20%24%28%60%3Cdiv%20id%3D%22html_0afc8d28658a49cb849368ec6aacc7d3%22%20style%3D%22width%3A%20100.0%25%3B%20height%3A%20100.0%25%3B%22%3ETop%204%20-%20Rockaway%20Beach%3C/div%3E%60%29%5B0%5D%3B%0A%20%20%20%20%20%20%20%20%20%20%20%20popup_e70741fd230a4312b86b55638a3049ef.setContent%28html_0afc8d28658a49cb849368ec6aacc7d3%29%3B%0A%20%20%20%20%20%20%20%20%0A%0A%20%20%20%20%20%20%20%20marker_7c4d7d1a5eb842b4bea867fe6675b6fd.bindPopup%28popup_e70741fd230a4312b86b55638a3049ef%29%0A%20%20%20%20%20%20%20%20%3B%0A%0A%20%20%20%20%20%20%20%20%0A%20%20%20%20%0A%20%20%20%20%0A%20%20%20%20%20%20%20%20%20%20%20%20var%20marker_04951e2539db479fad7d996228e61d9c%20%3D%20L.marker%28%0A%20%20%20%20%20%20%20%20%20%20%20%20%20%20%20%20%5B40.84884160724665%2C%20-73.90829930881988%5D%2C%0A%20%20%20%20%20%20%20%20%20%20%20%20%20%20%20%20%7B%7D%0A%20%20%20%20%20%20%20%20%20%20%20%20%29.addTo%28map_fc1d5ad4bf324b7386facc3bf3dcd88f%29%3B%0A%20%20%20%20%20%20%20%20%0A%20%20%20%20%0A%20%20%20%20%20%20%20%20var%20popup_7e9687f015a64d4b948ee21f4cdf3f20%20%3D%20L.popup%28%7B%22maxWidth%22%3A%20%22100%25%22%7D%29%3B%0A%0A%20%20%20%20%20%20%20%20%0A%20%20%20%20%20%20%20%20%20%20%20%20var%20html_edb271e7a17e453ab583e98ef730e56e%20%3D%20%24%28%60%3Cdiv%20id%3D%22html_edb271e7a17e453ab583e98ef730e56e%22%20style%3D%22width%3A%20100.0%25%3B%20height%3A%20100.0%25%3B%22%3ETop%205%20-%20Mount%20Hope%3C/div%3E%60%29%5B0%5D%3B%0A%20%20%20%20%20%20%20%20%20%20%20%20popup_7e9687f015a64d4b948ee21f4cdf3f20.setContent%28html_edb271e7a17e453ab583e98ef730e56e%29%3B%0A%20%20%20%20%20%20%20%20%0A%0A%20%20%20%20%20%20%20%20marker_04951e2539db479fad7d996228e61d9c.bindPopup%28popup_7e9687f015a64d4b948ee21f4cdf3f20%29%0A%20%20%20%20%20%20%20%20%3B%0A%0A%20%20%20%20%20%20%20%20%0A%20%20%20%20%0A%3C/script%3E onload=\"this.contentDocument.open();this.contentDocument.write(    decodeURIComponent(this.getAttribute('data-html')));this.contentDocument.close();\" allowfullscreen webkitallowfullscreen mozallowfullscreen></iframe></div></div>"
      ],
      "text/plain": [
       "<folium.folium.Map at 0x7ffae025f8d0>"
      ]
     },
     "execution_count": 354,
     "metadata": {},
     "output_type": "execute_result"
    }
   ],
   "source": [
    "ny_map"
   ]
  },
  {
   "cell_type": "markdown",
   "id": "directed-mozambique",
   "metadata": {},
   "source": [
    "### Create Map for Toronto\n",
    "\n",
    "#### Color of the heatmap: the darker color the higher score"
   ]
  },
  {
   "cell_type": "code",
   "execution_count": 352,
   "id": "mediterranean-strengthening",
   "metadata": {},
   "outputs": [
    {
     "data": {
      "text/html": [
       "<div>\n",
       "<style scoped>\n",
       "    .dataframe tbody tr th:only-of-type {\n",
       "        vertical-align: middle;\n",
       "    }\n",
       "\n",
       "    .dataframe tbody tr th {\n",
       "        vertical-align: top;\n",
       "    }\n",
       "\n",
       "    .dataframe thead th {\n",
       "        text-align: right;\n",
       "    }\n",
       "</style>\n",
       "<table border=\"1\" class=\"dataframe\">\n",
       "  <thead>\n",
       "    <tr style=\"text-align: right;\">\n",
       "      <th></th>\n",
       "      <th>Postal Code</th>\n",
       "      <th>Borough</th>\n",
       "      <th>Neighbourhood</th>\n",
       "      <th>Latitude</th>\n",
       "      <th>Longitude</th>\n",
       "      <th>Score</th>\n",
       "    </tr>\n",
       "  </thead>\n",
       "  <tbody>\n",
       "    <tr>\n",
       "      <th>0</th>\n",
       "      <td>M2M</td>\n",
       "      <td>North York</td>\n",
       "      <td>Willowdale</td>\n",
       "      <td>43.761510</td>\n",
       "      <td>-79.410923</td>\n",
       "      <td>21</td>\n",
       "    </tr>\n",
       "    <tr>\n",
       "      <th>1</th>\n",
       "      <td>M5R</td>\n",
       "      <td>Central Toronto</td>\n",
       "      <td>Yorkville</td>\n",
       "      <td>43.671386</td>\n",
       "      <td>-79.390168</td>\n",
       "      <td>12</td>\n",
       "    </tr>\n",
       "    <tr>\n",
       "      <th>2</th>\n",
       "      <td>M5V</td>\n",
       "      <td>Downtown Toronto</td>\n",
       "      <td>Bathurst Quay</td>\n",
       "      <td>43.635790</td>\n",
       "      <td>-79.398329</td>\n",
       "      <td>12</td>\n",
       "    </tr>\n",
       "    <tr>\n",
       "      <th>3</th>\n",
       "      <td>M4E</td>\n",
       "      <td>East Toronto</td>\n",
       "      <td>The Beaches</td>\n",
       "      <td>43.671024</td>\n",
       "      <td>-79.296712</td>\n",
       "      <td>12</td>\n",
       "    </tr>\n",
       "    <tr>\n",
       "      <th>4</th>\n",
       "      <td>M4L</td>\n",
       "      <td>East Toronto</td>\n",
       "      <td>The Beaches West</td>\n",
       "      <td>43.671024</td>\n",
       "      <td>-79.296712</td>\n",
       "      <td>12</td>\n",
       "    </tr>\n",
       "  </tbody>\n",
       "</table>\n",
       "</div>"
      ],
      "text/plain": [
       "  Postal Code           Borough     Neighbourhood   Latitude  Longitude  Score\n",
       "0         M2M        North York        Willowdale  43.761510 -79.410923     21\n",
       "1         M5R   Central Toronto         Yorkville  43.671386 -79.390168     12\n",
       "2         M5V  Downtown Toronto     Bathurst Quay  43.635790 -79.398329     12\n",
       "3         M4E      East Toronto       The Beaches  43.671024 -79.296712     12\n",
       "4         M4L      East Toronto  The Beaches West  43.671024 -79.296712     12"
      ]
     },
     "execution_count": 352,
     "metadata": {},
     "output_type": "execute_result"
    }
   ],
   "source": [
    "tr_map = folium.Map(location=[43.6011, -79.3470], zoom_start=10)\n",
    "heatmap_helper(tr_df2[[\"Latitude\", \"Longitude\", \"Score\"]], tr_map)\n",
    "\n",
    "tr_df_sorted = tr_df2.sort_values(by=\"Score\", ascending=False).iloc[0:5,:].reset_index(drop=True)\n",
    "tr_df_sorted.apply(lambda x: marker(x, tr_map), axis=1)\n",
    "tr_df_sorted"
   ]
  },
  {
   "cell_type": "code",
   "execution_count": 356,
   "id": "chief-ukraine",
   "metadata": {},
   "outputs": [
    {
     "data": {
      "text/html": [
       "<div style=\"width:100%;\"><div style=\"position:relative;width:100%;height:0;padding-bottom:60%;\"><span style=\"color:#565656\">Make this Notebook Trusted to load map: File -> Trust Notebook</span><iframe src=\"about:blank\" style=\"position:absolute;width:100%;height:100%;left:0;top:0;border:none !important;\" data-html=%3C%21DOCTYPE%20html%3E%0A%3Chead%3E%20%20%20%20%0A%20%20%20%20%3Cmeta%20http-equiv%3D%22content-type%22%20content%3D%22text/html%3B%20charset%3DUTF-8%22%20/%3E%0A%20%20%20%20%0A%20%20%20%20%20%20%20%20%3Cscript%3E%0A%20%20%20%20%20%20%20%20%20%20%20%20L_NO_TOUCH%20%3D%20false%3B%0A%20%20%20%20%20%20%20%20%20%20%20%20L_DISABLE_3D%20%3D%20false%3B%0A%20%20%20%20%20%20%20%20%3C/script%3E%0A%20%20%20%20%0A%20%20%20%20%3Cstyle%3Ehtml%2C%20body%20%7Bwidth%3A%20100%25%3Bheight%3A%20100%25%3Bmargin%3A%200%3Bpadding%3A%200%3B%7D%3C/style%3E%0A%20%20%20%20%3Cstyle%3E%23map%20%7Bposition%3Aabsolute%3Btop%3A0%3Bbottom%3A0%3Bright%3A0%3Bleft%3A0%3B%7D%3C/style%3E%0A%20%20%20%20%3Cscript%20src%3D%22https%3A//cdn.jsdelivr.net/npm/leaflet%401.6.0/dist/leaflet.js%22%3E%3C/script%3E%0A%20%20%20%20%3Cscript%20src%3D%22https%3A//code.jquery.com/jquery-1.12.4.min.js%22%3E%3C/script%3E%0A%20%20%20%20%3Cscript%20src%3D%22https%3A//maxcdn.bootstrapcdn.com/bootstrap/3.2.0/js/bootstrap.min.js%22%3E%3C/script%3E%0A%20%20%20%20%3Cscript%20src%3D%22https%3A//cdnjs.cloudflare.com/ajax/libs/Leaflet.awesome-markers/2.0.2/leaflet.awesome-markers.js%22%3E%3C/script%3E%0A%20%20%20%20%3Clink%20rel%3D%22stylesheet%22%20href%3D%22https%3A//cdn.jsdelivr.net/npm/leaflet%401.6.0/dist/leaflet.css%22/%3E%0A%20%20%20%20%3Clink%20rel%3D%22stylesheet%22%20href%3D%22https%3A//maxcdn.bootstrapcdn.com/bootstrap/3.2.0/css/bootstrap.min.css%22/%3E%0A%20%20%20%20%3Clink%20rel%3D%22stylesheet%22%20href%3D%22https%3A//maxcdn.bootstrapcdn.com/bootstrap/3.2.0/css/bootstrap-theme.min.css%22/%3E%0A%20%20%20%20%3Clink%20rel%3D%22stylesheet%22%20href%3D%22https%3A//maxcdn.bootstrapcdn.com/font-awesome/4.6.3/css/font-awesome.min.css%22/%3E%0A%20%20%20%20%3Clink%20rel%3D%22stylesheet%22%20href%3D%22https%3A//cdnjs.cloudflare.com/ajax/libs/Leaflet.awesome-markers/2.0.2/leaflet.awesome-markers.css%22/%3E%0A%20%20%20%20%3Clink%20rel%3D%22stylesheet%22%20href%3D%22https%3A//cdn.jsdelivr.net/gh/python-visualization/folium/folium/templates/leaflet.awesome.rotate.min.css%22/%3E%0A%20%20%20%20%0A%20%20%20%20%20%20%20%20%20%20%20%20%3Cmeta%20name%3D%22viewport%22%20content%3D%22width%3Ddevice-width%2C%0A%20%20%20%20%20%20%20%20%20%20%20%20%20%20%20%20initial-scale%3D1.0%2C%20maximum-scale%3D1.0%2C%20user-scalable%3Dno%22%20/%3E%0A%20%20%20%20%20%20%20%20%20%20%20%20%3Cstyle%3E%0A%20%20%20%20%20%20%20%20%20%20%20%20%20%20%20%20%23map_bc982bb5a9d547218ef27ae37ef7e556%20%7B%0A%20%20%20%20%20%20%20%20%20%20%20%20%20%20%20%20%20%20%20%20position%3A%20relative%3B%0A%20%20%20%20%20%20%20%20%20%20%20%20%20%20%20%20%20%20%20%20width%3A%20100.0%25%3B%0A%20%20%20%20%20%20%20%20%20%20%20%20%20%20%20%20%20%20%20%20height%3A%20100.0%25%3B%0A%20%20%20%20%20%20%20%20%20%20%20%20%20%20%20%20%20%20%20%20left%3A%200.0%25%3B%0A%20%20%20%20%20%20%20%20%20%20%20%20%20%20%20%20%20%20%20%20top%3A%200.0%25%3B%0A%20%20%20%20%20%20%20%20%20%20%20%20%20%20%20%20%7D%0A%20%20%20%20%20%20%20%20%20%20%20%20%3C/style%3E%0A%20%20%20%20%20%20%20%20%0A%20%20%20%20%3Cscript%20src%3D%22https%3A//cdn.jsdelivr.net/gh/python-visualization/folium%40master/folium/templates/leaflet_heat.min.js%22%3E%3C/script%3E%0A%3C/head%3E%0A%3Cbody%3E%20%20%20%20%0A%20%20%20%20%0A%20%20%20%20%20%20%20%20%20%20%20%20%3Cdiv%20class%3D%22folium-map%22%20id%3D%22map_bc982bb5a9d547218ef27ae37ef7e556%22%20%3E%3C/div%3E%0A%20%20%20%20%20%20%20%20%0A%3C/body%3E%0A%3Cscript%3E%20%20%20%20%0A%20%20%20%20%0A%20%20%20%20%20%20%20%20%20%20%20%20var%20map_bc982bb5a9d547218ef27ae37ef7e556%20%3D%20L.map%28%0A%20%20%20%20%20%20%20%20%20%20%20%20%20%20%20%20%22map_bc982bb5a9d547218ef27ae37ef7e556%22%2C%0A%20%20%20%20%20%20%20%20%20%20%20%20%20%20%20%20%7B%0A%20%20%20%20%20%20%20%20%20%20%20%20%20%20%20%20%20%20%20%20center%3A%20%5B43.6011%2C%20-79.347%5D%2C%0A%20%20%20%20%20%20%20%20%20%20%20%20%20%20%20%20%20%20%20%20crs%3A%20L.CRS.EPSG3857%2C%0A%20%20%20%20%20%20%20%20%20%20%20%20%20%20%20%20%20%20%20%20zoom%3A%2010%2C%0A%20%20%20%20%20%20%20%20%20%20%20%20%20%20%20%20%20%20%20%20zoomControl%3A%20true%2C%0A%20%20%20%20%20%20%20%20%20%20%20%20%20%20%20%20%20%20%20%20preferCanvas%3A%20false%2C%0A%20%20%20%20%20%20%20%20%20%20%20%20%20%20%20%20%7D%0A%20%20%20%20%20%20%20%20%20%20%20%20%29%3B%0A%0A%20%20%20%20%20%20%20%20%20%20%20%20%0A%0A%20%20%20%20%20%20%20%20%0A%20%20%20%20%0A%20%20%20%20%20%20%20%20%20%20%20%20var%20tile_layer_35d68e34496d4d2196a4479aa4c9c83c%20%3D%20L.tileLayer%28%0A%20%20%20%20%20%20%20%20%20%20%20%20%20%20%20%20%22https%3A//%7Bs%7D.tile.openstreetmap.org/%7Bz%7D/%7Bx%7D/%7By%7D.png%22%2C%0A%20%20%20%20%20%20%20%20%20%20%20%20%20%20%20%20%7B%22attribution%22%3A%20%22Data%20by%20%5Cu0026copy%3B%20%5Cu003ca%20href%3D%5C%22http%3A//openstreetmap.org%5C%22%5Cu003eOpenStreetMap%5Cu003c/a%5Cu003e%2C%20under%20%5Cu003ca%20href%3D%5C%22http%3A//www.openstreetmap.org/copyright%5C%22%5Cu003eODbL%5Cu003c/a%5Cu003e.%22%2C%20%22detectRetina%22%3A%20false%2C%20%22maxNativeZoom%22%3A%2018%2C%20%22maxZoom%22%3A%2018%2C%20%22minZoom%22%3A%200%2C%20%22noWrap%22%3A%20false%2C%20%22opacity%22%3A%201%2C%20%22subdomains%22%3A%20%22abc%22%2C%20%22tms%22%3A%20false%7D%0A%20%20%20%20%20%20%20%20%20%20%20%20%29.addTo%28map_bc982bb5a9d547218ef27ae37ef7e556%29%3B%0A%20%20%20%20%20%20%20%20%0A%20%20%20%20%0A%20%20%20%20%20%20%20%20%20%20%20%20var%20heat_map_0db75e099b9c4bffb3326382ac967c05%20%3D%20L.heatLayer%28%0A%20%20%20%20%20%20%20%20%20%20%20%20%20%20%20%20%5B%5B43.7587999%2C%20-79.3201966%2C%200.0%5D%2C%20%5B43.732658%2C%20-79.3111892%2C%202.0%5D%2C%20%5B43.6607056%2C%20-79.3604569%2C%205.0%5D%2C%20%5B43.6400801%2C%20-79.3801495%2C%207.0%5D%2C%20%5B43.7220788%2C%20-79.4375067%2C%206.0%5D%2C%20%5B43.7227784%2C%20-79.4509332%2C%205.0%5D%2C%20%5B43.659659%2C%20-79.3903399%2C%207.0%5D%2C%20%5B43.6623015%2C%20-79.3894938%2C%208.0%5D%2C%20%5B43.6389593%2C%20-79.5210499%2C%204.0%5D%2C%20%5B43.6664717%2C%20-79.5243136%2C%2010.0%5D%2C%20%5B43.8091955%2C%20-79.2217008%2C%207.0%5D%2C%20%5B43.8049304%2C%20-79.1658374%2C%203.0%5D%2C%20%5B43.775347%2C%20-79.3459439%2C%2010.0%5D%2C%20%5B43.7062977%2C%20-79.3219073%2C%203.0%5D%2C%20%5B43.7120785%2C%20-79.3025673%2C%203.0%5D%2C%20%5B43.6564995%2C%20-79.3771141%2C%206.0%5D%2C%20%5B43.65846945%2C%20-79.37899327245886%2C%204.0%5D%2C%20%5B43.7087117%2C%20-79.4406853%2C%205.0%5D%2C%20%5B43.6631995%2C%20-79.5685684%2C%203.0%5D%2C%20%5B43.6404664%2C%20-79.3912237%2C%206.0%5D%2C%20%5B43.643429850000004%2C%20-79.37905948373245%2C%206.0%5D%2C%20%5B43.645335%2C%20-79.5248163%2C%201.0%5D%2C%20%5B43.633637%2C%20-79.5497447%2C%203.0%5D%2C%20%5B43.7802711%2C%20-79.1304992%2C%204.0%5D%2C%20%5B43.7755039%2C%20-79.1349765%2C%204.0%5D%2C%20%5B43.7901172%2C%20-79.1733344%2C%200.0%5D%2C%20%5B43.69992%2C%20-79.319279%2C%203.0%5D%2C%20%5B43.6694032%2C%20-79.3727041%2C%2010.0%5D%2C%20%5B43.6883215%2C%20-79.4280805%2C%206.0%5D%2C%20%5B43.6622732%2C%20-79.5765162%2C%202.0%5D%2C%20%5B43.6353169%2C%20-79.5636744%2C%205.0%5D%2C%20%5B43.6393732%2C%20-79.5843869%2C%202.0%5D%2C%20%5B43.63123865%2C%20-79.58543401986114%2C%201.0%5D%2C%20%5B43.7552251%2C%20-79.1982293%2C%206.0%5D%2C%20%5B43.7826012%2C%20-79.2049579%2C%203.0%5D%2C%20%5B43.7689144%2C%20-79.1872905%2C%204.0%5D%2C%20%5B43.6710244%2C%20-79.296712%2C%2012.0%5D%2C%20%5B43.64798435%2C%20-79.37539591138858%2C%204.0%5D%2C%20%5B43.6890256%2C%20-79.453512%2C%204.0%5D%2C%20%5B43.7598243%2C%20-79.2252908%2C%206.0%5D%2C%20%5B43.7047983%2C%20-79.3680904%2C%203.0%5D%2C%20%5B43.6706485%2C%20-79.3898668%2C%2010.0%5D%2C%20%5B43.6641106%2C%20-79.4184051%2C%206.0%5D%2C%20%5B43.75646655%2C%20-79.22669244258802%2C%204.0%5D%2C%20%5B43.6816953%2C%20-79.4257118%2C%203.0%5D%2C%20%5B43.6655189%2C%20-79.4119373%2C%207.0%5D%2C%20%5B43.7405195%2C%20-79.4400172%2C%202.0%5D%2C%20%5B43.7492988%2C%20-79.462248%2C%20-1.0%5D%2C%20%5B43.704553%2C%20-79.3454074%2C%202.0%5D%2C%20%5B43.6527445%2C%20-79.3746734%2C%204.0%5D%2C%20%5B43.6502975%2C%20-79.38047735048377%2C%205.0%5D%2C%20%5B43.6489494%2C%20-79.3777538%2C%205.0%5D%2C%20%5B43.6602019%2C%20-79.4357191%2C%207.0%5D%2C%20%5B43.6653069%2C%20-79.4326362%2C%2011.0%5D%2C%20%5B43.7437422%2C%20-79.2116324%2C%202.0%5D%2C%20%5B43.6534817%2C%20-79.3839347%2C%204.0%5D%2C%20%5B43.7695089%2C%20-79.354296%2C%205.0%5D%2C%20%5B43.765498%2C%20-79.3642688%2C%203.0%5D%2C%20%5B43.7541351%2C%20-79.50448%2C%202.0%5D%2C%20%5B43.7743325%2C%20-79.50027054016516%2C%20-1.0%5D%2C%20%5B43.72178945%2C%20-79.37402706301704%2C%201.0%5D%2C%20%5B43.6839216%2C%20-79.3569421%2C%203.0%5D%2C%20%5B43.6400801%2C%20-79.3801495%2C%207.0%5D%2C%20%5B43.6446934%2C%20-79.38013200585965%2C%206.0%5D%2C%20%5B43.6230544%2C%20-79.39431563721035%2C%202.0%5D%2C%20%5B43.64741325%2C%20-79.43111632546047%2C%203.0%5D%2C%20%5B43.665301549999995%2C%20-79.39525214965947%2C%207.0%5D%2C%20%5B43.724878%2C%20-79.2539688%2C%202.0%5D%2C%20%5B43.7359904%2C%20-79.2765146%2C%202.0%5D%2C%20%5B43.7141672%2C%20-79.271109%2C%205.0%5D%2C%20%5B43.7691966%2C%20-79.3766617%2C%203.0%5D%2C%20%5B43.7492988%2C%20-79.462248%2C%20-4.0%5D%2C%20%5B43.6864333%2C%20-79.3003555%2C%208.0%5D%2C%20%5B43.6654704%2C%20-79.3525936%2C%206.0%5D%2C%20%5B43.6473768%2C%20-79.3813719429129%2C%205.0%5D%2C%20%5B43.6477412%2C%20-79.3801145%2C%205.0%5D%2C%20%5B43.6509173%2C%20-79.4400216%2C%205.0%5D%2C%20%5B43.6404954%2C%20-79.4368965%2C%204.0%5D%2C%20%5B43.6335207%2C%20-79.4177242473176%2C%204.0%5D%2C%20%5B43.7278414%2C%20-79.2876217%2C%208.0%5D%2C%20%5B43.7088231%2C%20-79.2959856%2C%203.0%5D%2C%20%5B43.6971738%2C%20-79.2748232%2C%201.0%5D%2C%20%5B43.7440391%2C%20-79.406657%2C%204.0%5D%2C%20%5B43.7612224%2C%20-79.3683818%2C%201.0%5D%2C%20%5B43.6722231%2C%20-79.3235032%2C%207.0%5D%2C%20%5B43.6710244%2C%20-79.296712%2C%2012.0%5D%2C%20%5B43.64809515%2C%20-79.37902543099575%2C%203.0%5D%2C%20%5B43.66946915%2C%20-79.37326825%2C%204.0%5D%2C%20%5B43.7186899%2C%20-79.4775337%2C%202.0%5D%2C%20%5B43.7158241%2C%20-79.49341621107953%2C%201.0%5D%2C%20%5B43.708654499999994%2C%20-79.50254644741823%2C%201.0%5D%2C%20%5B43.7600778%2C%20-79.5717598%2C%200.0%5D%2C%20%5B43.7111699%2C%20-79.2481769%2C%207.0%5D%2C%20%5B43.7218363%2C%20-79.2362138%2C%201.0%5D%2C%20%5B43.7437422%2C%20-79.2116324%2C%202.0%5D%2C%20%5B43.7615095%2C%20-79.4109234%2C%2021.0%5D%2C%20%5B43.795986%2C%20-79.4130896%2C%206.0%5D%2C%20%5B43.64958515%2C%20-79.39068322559326%2C%203.0%5D%2C%20%5B43.7373876%2C%20-79.4109253%2C%203.0%5D%2C%20%5B43.7220788%2C%20-79.4375067%2C%206.0%5D%2C%20%5B43.6911158%2C%20-79.4760133%2C%203.0%5D%2C%20%5B43.6869597%2C%20-79.4895513%2C%202.0%5D%2C%20%5B43.6911158%2C%20-79.4760133%2C%203.0%5D%2C%20%5B43.7213166%2C%20-79.5331605%2C%201.0%5D%2C%20%5B43.7520744%2C%20-79.5423657%2C%200.0%5D%2C%20%5B43.6918051%2C%20-79.2644935%2C%203.0%5D%2C%20%5B43.7111699%2C%20-79.2481769%2C%207.0%5D%2C%20%5B43.7615095%2C%20-79.4109234%2C%207.0%5D%2C%20%5B43.729199%2C%20-79.4032525%2C%204.0%5D%2C%20%5B43.7087103%2C%20-79.4097894%2C%202.0%5D%2C%20%5B43.6517026%2C%20-79.4759978%2C%206.0%5D%2C%20%5B43.6654775%2C%20-79.470352%2C%209.0%5D%2C%20%5B43.7001608%2C%20-79.5162474%2C%202.0%5D%2C%20%5B43.7528467%2C%20-79.282067%2C%200.0%5D%2C%20%5B43.7432421%2C%20-79.304641%2C%206.0%5D%2C%20%5B43.7761341%2C%20-79.25843763592165%2C%205.0%5D%2C%20%5B43.7440391%2C%20-79.406657%2C%204.0%5D%2C%20%5B43.697936%2C%20-79.3972908%2C%202.0%5D%2C%20%5B43.701028%2C%20-79.4255998%2C%201.0%5D%2C%20%5B43.6946774%2C%20-79.4066795%2C%209.0%5D%2C%20%5B43.6538668%2C%20-79.4668644%2C%207.0%5D%2C%20%5B43.6654775%2C%20-79.470352%2C%209.0%5D%2C%20%5B43.6936399%2C%20-79.5210426%2C%204.0%5D%2C%20%5B43.7453767%2C%20-79.2947155%2C%206.0%5D%2C%20%5B43.7590508%2C%20-79.3102297%2C%202.0%5D%2C%20%5B43.7615095%2C%20-79.4109234%2C%207.0%5D%2C%20%5B43.6465466%2C%20-79.4195263%2C%202.0%5D%2C%20%5B43.6703377%2C%20-79.407117%2C%204.0%5D%2C%20%5B43.6727097%2C%20-79.4056784%2C%207.0%5D%2C%20%5B43.6713861%2C%20-79.3901677%2C%2012.0%5D%2C%20%5B43.6404954%2C%20-79.4368965%2C%204.0%5D%2C%20%5B43.6514426%2C%20-79.4510381%2C%207.0%5D%2C%20%5B43.6369656%2C%20-79.615819%2C%203.0%5D%2C%20%5B43.6995391%2C%20-79.5563459%2C%201.0%5D%2C%20%5B43.7000483%2C%20-79.5437651%2C%201.0%5D%2C%20%5B43.6873105%2C%20-79.561967%2C%201.0%5D%2C%20%5B43.6848335%2C%20-79.5482883%2C%201.0%5D%2C%20%5B43.7853531%2C%20-79.2785494%2C%202.0%5D%2C%20%5B43.697936%2C%20-79.3972908%2C%202.0%5D%2C%20%5B43.663461999999996%2C%20-79.39775965337452%2C%207.0%5D%2C%20%5B43.66147475%2C%20-79.4143720875944%2C%205.0%5D%2C%20%5B43.64494%2C%20-79.478313%2C%200.0%5D%2C%20%5B43.7964095%2C%20-79.2977951%2C%203.0%5D%2C%20%5B43.7810454%2C%20-79.2980941%2C%201.0%5D%2C%20%5B43.7726802%2C%20-79.3159449%2C%206.0%5D%2C%20%5B43.6903876%2C%20-79.3832965%2C%208.0%5D%2C%20%5B43.6816776%2C%20-79.3905037%2C%207.0%5D%2C%20%5B43.6552136%2C%20-79.4022604%2C%202.0%5D%2C%20%5B43.6529237%2C%20-79.3980316%2C%204.0%5D%2C%20%5B43.652196599999996%2C%20-79.39231921757992%2C%203.0%5D%2C%20%5B43.8231743%2C%20-79.3017626%2C%201.0%5D%2C%20%5B43.8080383%2C%20-79.2664391%2C%202.0%5D%2C%20%5B43.8161778%2C%20-79.3145378%2C%203.0%5D%2C%20%5B43.799003%2C%20-79.3059669%2C%203.0%5D%2C%20%5B43.6816776%2C%20-79.3905037%2C%207.0%5D%2C%20%5B43.6783953%2C%20-79.4008217%2C%208.0%5D%2C%20%5B43.6779261%2C%20-79.4057671%2C%204.0%5D%2C%20%5B43.6935586%2C%20-79.4139023%2C%205.0%5D%2C%20%5B43.68809%2C%20-79.3940935%2C%205.0%5D%2C%20%5B43.6425637%2C%20-79.38708718320467%2C%205.0%5D%2C%20%5B43.6454561%2C%20-79.3949942%2C%203.0%5D%2C%20%5B43.6289467%2C%20-79.3944199%2C%202.0%5D%2C%20%5B43.6400801%2C%20-79.3801495%2C%207.0%5D%2C%20%5B43.6357905%2C%20-79.398329%2C%2012.0%5D%2C%20%5B43.6440753%2C%20-79.4086982%2C%202.0%5D%2C%20%5B43.6289467%2C%20-79.3944199%2C%202.0%5D%2C%20%5B43.6007625%2C%20-79.505264%2C%203.0%5D%2C%20%5B43.6166773%2C%20-79.4968048%2C%207.0%5D%2C%20%5B43.6056466%2C%20-79.5013207%2C%203.0%5D%2C%20%5B43.8161778%2C%20-79.3145378%2C%203.0%5D%2C%20%5B43.749750899999995%2C%20-79.59911593109416%2C%202.0%5D%2C%20%5B43.7458877%2C%20-79.487559%2C%204.0%5D%2C%20%5B43.6534817%2C%20-79.3839347%2C%204.0%5D%2C%20%5B43.6534817%2C%20-79.3839347%2C%204.0%5D%2C%20%5B43.7394164%2C%20-79.5884369%2C%204.0%5D%2C%20%5B43.7372656%2C%20-79.5653169%2C%202.0%5D%2C%20%5B43.7436678%2C%20-79.6066513%2C%200.0%5D%2C%20%5B43.8161778%2C%20-79.3145378%2C%203.0%5D%2C%20%5B43.799003%2C%20-79.3059669%2C%203.0%5D%2C%20%5B43.6783556%2C%20-79.3807457%2C%206.0%5D%2C%20%5B43.6464352%2C%20-79.374846%2C%208.0%5D%2C%20%5B43.6017173%2C%20-79.5452325%2C%204.0%5D%2C%20%5B43.59200455%2C%20-79.54536450659592%2C%203.0%5D%2C%20%5B43.6465466%2C%20-79.4195263%2C%202.0%5D%2C%20%5B43.72337025%2C%20-79.59745741095173%2C%202.0%5D%2C%20%5B43.8049304%2C%20-79.1658374%2C%203.0%5D%2C%20%5B43.6644734%2C%20-79.3669861%2C%209.0%5D%2C%20%5B43.6487681%2C%20-79.38169179283025%2C%205.0%5D%2C%20%5B43.7701454%2C%20-79.3748625%2C%204.0%5D%2C%20%5B43.6473811%2C%20-79.5113328%2C%201.0%5D%2C%20%5B43.6502695%2C%20-79.521292%2C%204.0%5D%2C%20%5B43.649826%2C%20-79.4943338%2C%207.0%5D%2C%20%5B43.6655242%2C%20-79.3838011%2C%208.0%5D%2C%20%5B43.6627439%2C%20-79.321558%2C%207.0%5D%2C%20%5B43.6627439%2C%20-79.321558%2C%207.0%5D%2C%20%5B43.649826%2C%20-79.4943338%2C%207.0%5D%2C%20%5B43.6510895%2C%20-79.4920291%2C%206.0%5D%2C%20%5B43.64159705%2C%20-79.5016654011084%2C%202.0%5D%2C%20%5B43.6400463%2C%20-79.495028%2C%203.0%5D%2C%20%5B43.6166773%2C%20-79.4968048%2C%207.0%5D%2C%20%5B43.6093093%2C%20-79.5677317%2C%206.0%5D%2C%20%5B43.6481827%2C%20-79.5112961%2C%201.0%5D%2C%20%5B43.6473811%2C%20-79.5113328%2C%201.0%5D%2C%20%5B43.6166773%2C%20-79.4968048%2C%207.0%5D%2C%20%5B43.6236182%2C%20-79.5147637%2C%204.0%5D%2C%20%5B43.6288408%2C%20-79.5209994%2C%206.0%5D%2C%20%5B43.6473811%2C%20-79.5113328%2C%201.0%5D%2C%20%5B43.6481827%2C%20-79.5112961%2C%201.0%5D%5D%2C%0A%20%20%20%20%20%20%20%20%20%20%20%20%20%20%20%20%7B%22blur%22%3A%2015%2C%20%22gradient%22%3A%20%7B%220.1%22%3A%20%22darkblue%22%2C%20%220.4%22%3A%20%22green%22%2C%20%220.6%22%3A%20%22yellow%22%2C%20%220.7%22%3A%20%22orange%22%2C%20%220.8%22%3A%20%22red%22%2C%20%220.9%22%3A%20%22darkred%22%2C%20%221.0%22%3A%20%22black%22%7D%2C%20%22maxZoom%22%3A%2018%2C%20%22minOpacity%22%3A%200.5%2C%20%22radius%22%3A%2013%7D%0A%20%20%20%20%20%20%20%20%20%20%20%20%29.addTo%28map_bc982bb5a9d547218ef27ae37ef7e556%29%3B%0A%20%20%20%20%20%20%20%20%0A%20%20%20%20%0A%20%20%20%20%20%20%20%20%20%20%20%20var%20marker_7c4643a6d3344f3b8e7dfc167d73ffcc%20%3D%20L.marker%28%0A%20%20%20%20%20%20%20%20%20%20%20%20%20%20%20%20%5B43.7615095%2C%20-79.4109234%5D%2C%0A%20%20%20%20%20%20%20%20%20%20%20%20%20%20%20%20%7B%7D%0A%20%20%20%20%20%20%20%20%20%20%20%20%29.addTo%28map_bc982bb5a9d547218ef27ae37ef7e556%29%3B%0A%20%20%20%20%20%20%20%20%0A%20%20%20%20%0A%20%20%20%20%20%20%20%20var%20popup_2fb5503f34524c608891e1637f604f6e%20%3D%20L.popup%28%7B%22maxWidth%22%3A%20%22100%25%22%7D%29%3B%0A%0A%20%20%20%20%20%20%20%20%0A%20%20%20%20%20%20%20%20%20%20%20%20var%20html_aa0213be716e4a6a82b5778e29d8bb61%20%3D%20%24%28%60%3Cdiv%20id%3D%22html_aa0213be716e4a6a82b5778e29d8bb61%22%20style%3D%22width%3A%20100.0%25%3B%20height%3A%20100.0%25%3B%22%3ETop%201%20-%20Willowdale%3C/div%3E%60%29%5B0%5D%3B%0A%20%20%20%20%20%20%20%20%20%20%20%20popup_2fb5503f34524c608891e1637f604f6e.setContent%28html_aa0213be716e4a6a82b5778e29d8bb61%29%3B%0A%20%20%20%20%20%20%20%20%0A%0A%20%20%20%20%20%20%20%20marker_7c4643a6d3344f3b8e7dfc167d73ffcc.bindPopup%28popup_2fb5503f34524c608891e1637f604f6e%29%0A%20%20%20%20%20%20%20%20%3B%0A%0A%20%20%20%20%20%20%20%20%0A%20%20%20%20%0A%20%20%20%20%0A%20%20%20%20%20%20%20%20%20%20%20%20var%20marker_4e6cfee0b43e424d967711138094d480%20%3D%20L.marker%28%0A%20%20%20%20%20%20%20%20%20%20%20%20%20%20%20%20%5B43.6713861%2C%20-79.3901677%5D%2C%0A%20%20%20%20%20%20%20%20%20%20%20%20%20%20%20%20%7B%7D%0A%20%20%20%20%20%20%20%20%20%20%20%20%29.addTo%28map_bc982bb5a9d547218ef27ae37ef7e556%29%3B%0A%20%20%20%20%20%20%20%20%0A%20%20%20%20%0A%20%20%20%20%20%20%20%20var%20popup_2356a6f327b44674b7aa707fadb6e3ea%20%3D%20L.popup%28%7B%22maxWidth%22%3A%20%22100%25%22%7D%29%3B%0A%0A%20%20%20%20%20%20%20%20%0A%20%20%20%20%20%20%20%20%20%20%20%20var%20html_1496b30165004d3d9ba6d190902a9f0b%20%3D%20%24%28%60%3Cdiv%20id%3D%22html_1496b30165004d3d9ba6d190902a9f0b%22%20style%3D%22width%3A%20100.0%25%3B%20height%3A%20100.0%25%3B%22%3ETop%202%20-%20Yorkville%3C/div%3E%60%29%5B0%5D%3B%0A%20%20%20%20%20%20%20%20%20%20%20%20popup_2356a6f327b44674b7aa707fadb6e3ea.setContent%28html_1496b30165004d3d9ba6d190902a9f0b%29%3B%0A%20%20%20%20%20%20%20%20%0A%0A%20%20%20%20%20%20%20%20marker_4e6cfee0b43e424d967711138094d480.bindPopup%28popup_2356a6f327b44674b7aa707fadb6e3ea%29%0A%20%20%20%20%20%20%20%20%3B%0A%0A%20%20%20%20%20%20%20%20%0A%20%20%20%20%0A%20%20%20%20%0A%20%20%20%20%20%20%20%20%20%20%20%20var%20marker_2fef37eee5d647ea9f6a6e7790c26870%20%3D%20L.marker%28%0A%20%20%20%20%20%20%20%20%20%20%20%20%20%20%20%20%5B43.6357905%2C%20-79.398329%5D%2C%0A%20%20%20%20%20%20%20%20%20%20%20%20%20%20%20%20%7B%7D%0A%20%20%20%20%20%20%20%20%20%20%20%20%29.addTo%28map_bc982bb5a9d547218ef27ae37ef7e556%29%3B%0A%20%20%20%20%20%20%20%20%0A%20%20%20%20%0A%20%20%20%20%20%20%20%20var%20popup_b277fae387bf4f0780c4a30c50c0f32a%20%3D%20L.popup%28%7B%22maxWidth%22%3A%20%22100%25%22%7D%29%3B%0A%0A%20%20%20%20%20%20%20%20%0A%20%20%20%20%20%20%20%20%20%20%20%20var%20html_8a267a04b3ea442cb7d8bc2adf77034c%20%3D%20%24%28%60%3Cdiv%20id%3D%22html_8a267a04b3ea442cb7d8bc2adf77034c%22%20style%3D%22width%3A%20100.0%25%3B%20height%3A%20100.0%25%3B%22%3ETop%203%20-%20Bathurst%20Quay%3C/div%3E%60%29%5B0%5D%3B%0A%20%20%20%20%20%20%20%20%20%20%20%20popup_b277fae387bf4f0780c4a30c50c0f32a.setContent%28html_8a267a04b3ea442cb7d8bc2adf77034c%29%3B%0A%20%20%20%20%20%20%20%20%0A%0A%20%20%20%20%20%20%20%20marker_2fef37eee5d647ea9f6a6e7790c26870.bindPopup%28popup_b277fae387bf4f0780c4a30c50c0f32a%29%0A%20%20%20%20%20%20%20%20%3B%0A%0A%20%20%20%20%20%20%20%20%0A%20%20%20%20%0A%20%20%20%20%0A%20%20%20%20%20%20%20%20%20%20%20%20var%20marker_05c5dc88e4bd4720a4293d5402cb030e%20%3D%20L.marker%28%0A%20%20%20%20%20%20%20%20%20%20%20%20%20%20%20%20%5B43.6710244%2C%20-79.296712%5D%2C%0A%20%20%20%20%20%20%20%20%20%20%20%20%20%20%20%20%7B%7D%0A%20%20%20%20%20%20%20%20%20%20%20%20%29.addTo%28map_bc982bb5a9d547218ef27ae37ef7e556%29%3B%0A%20%20%20%20%20%20%20%20%0A%20%20%20%20%0A%20%20%20%20%20%20%20%20var%20popup_a635fe4f1fb3468cbd58ff1083325da3%20%3D%20L.popup%28%7B%22maxWidth%22%3A%20%22100%25%22%7D%29%3B%0A%0A%20%20%20%20%20%20%20%20%0A%20%20%20%20%20%20%20%20%20%20%20%20var%20html_bfad8369b9c141a890c28564b13f61a1%20%3D%20%24%28%60%3Cdiv%20id%3D%22html_bfad8369b9c141a890c28564b13f61a1%22%20style%3D%22width%3A%20100.0%25%3B%20height%3A%20100.0%25%3B%22%3ETop%204%20-%20The%20Beaches%3C/div%3E%60%29%5B0%5D%3B%0A%20%20%20%20%20%20%20%20%20%20%20%20popup_a635fe4f1fb3468cbd58ff1083325da3.setContent%28html_bfad8369b9c141a890c28564b13f61a1%29%3B%0A%20%20%20%20%20%20%20%20%0A%0A%20%20%20%20%20%20%20%20marker_05c5dc88e4bd4720a4293d5402cb030e.bindPopup%28popup_a635fe4f1fb3468cbd58ff1083325da3%29%0A%20%20%20%20%20%20%20%20%3B%0A%0A%20%20%20%20%20%20%20%20%0A%20%20%20%20%0A%20%20%20%20%0A%20%20%20%20%20%20%20%20%20%20%20%20var%20marker_d74fc71efcb3483fb1c99aaa8a5bcdbd%20%3D%20L.marker%28%0A%20%20%20%20%20%20%20%20%20%20%20%20%20%20%20%20%5B43.6710244%2C%20-79.296712%5D%2C%0A%20%20%20%20%20%20%20%20%20%20%20%20%20%20%20%20%7B%7D%0A%20%20%20%20%20%20%20%20%20%20%20%20%29.addTo%28map_bc982bb5a9d547218ef27ae37ef7e556%29%3B%0A%20%20%20%20%20%20%20%20%0A%20%20%20%20%0A%20%20%20%20%20%20%20%20var%20popup_55fbcdb9bf294c67aeede3ce291fa6c9%20%3D%20L.popup%28%7B%22maxWidth%22%3A%20%22100%25%22%7D%29%3B%0A%0A%20%20%20%20%20%20%20%20%0A%20%20%20%20%20%20%20%20%20%20%20%20var%20html_6ba6e3d7548c4987ac3df84808223582%20%3D%20%24%28%60%3Cdiv%20id%3D%22html_6ba6e3d7548c4987ac3df84808223582%22%20style%3D%22width%3A%20100.0%25%3B%20height%3A%20100.0%25%3B%22%3ETop%205%20-%20The%20Beaches%20West%3C/div%3E%60%29%5B0%5D%3B%0A%20%20%20%20%20%20%20%20%20%20%20%20popup_55fbcdb9bf294c67aeede3ce291fa6c9.setContent%28html_6ba6e3d7548c4987ac3df84808223582%29%3B%0A%20%20%20%20%20%20%20%20%0A%0A%20%20%20%20%20%20%20%20marker_d74fc71efcb3483fb1c99aaa8a5bcdbd.bindPopup%28popup_55fbcdb9bf294c67aeede3ce291fa6c9%29%0A%20%20%20%20%20%20%20%20%3B%0A%0A%20%20%20%20%20%20%20%20%0A%20%20%20%20%0A%3C/script%3E onload=\"this.contentDocument.open();this.contentDocument.write(    decodeURIComponent(this.getAttribute('data-html')));this.contentDocument.close();\" allowfullscreen webkitallowfullscreen mozallowfullscreen></iframe></div></div>"
      ],
      "text/plain": [
       "<folium.folium.Map at 0x7ffae0292bd0>"
      ]
     },
     "execution_count": 356,
     "metadata": {},
     "output_type": "execute_result"
    }
   ],
   "source": [
    "tr_map"
   ]
  },
  {
   "cell_type": "markdown",
   "id": "honest-thumbnail",
   "metadata": {},
   "source": [
    "##### Top 5 in New York: [\"Starrett City\", \"Melrose\", \"Baychester\", \"Rockaway Beach\", \"Mount Hope\"]\n",
    "\n",
    "##### Top 5 in Toronto: [\"Willowdale\", \"Yorkville\", \"Bathurst Quay\", \"The Beaches\", \"The Beaches West\"]"
   ]
  },
  {
   "cell_type": "code",
   "execution_count": null,
   "id": "ancient-portable",
   "metadata": {},
   "outputs": [],
   "source": []
  },
  {
   "cell_type": "code",
   "execution_count": null,
   "id": "large-married",
   "metadata": {},
   "outputs": [],
   "source": []
  }
 ],
 "metadata": {
  "kernelspec": {
   "display_name": "Python 3",
   "language": "python",
   "name": "python3"
  },
  "language_info": {
   "codemirror_mode": {
    "name": "ipython",
    "version": 3
   },
   "file_extension": ".py",
   "mimetype": "text/x-python",
   "name": "python",
   "nbconvert_exporter": "python",
   "pygments_lexer": "ipython3",
   "version": "3.7.9"
  }
 },
 "nbformat": 4,
 "nbformat_minor": 5
}
